{
 "cells": [
  {
   "cell_type": "markdown",
   "metadata": {
    "id": "xiwR3DevSKXQ"
   },
   "source": [
    "# **Advanced Methods of Machine Learning**"
   ]
  },
  {
   "cell_type": "markdown",
   "metadata": {
    "id": "X_72wSDcS3ma"
   },
   "source": [
    "\n",
    "#  Carlos Álvarez\n",
    "\n",
    "### **Git-hub: https://github.com/Alvarez527**\n",
    "### **Linkedin: www.linkedin.com/in/cralvarez-ai**"
   ]
  },
  {
   "cell_type": "markdown",
   "metadata": {
    "id": "kzt38YDXU2Lg"
   },
   "source": [
    "\n",
    "#### Professor: Pepe Cantoral Ph.D.\n",
    "\n",
    "## **Deep Learning - Fully Connected Deep Neural Networks**\n",
    "#### Activity 1b: Implementing a Fully Connected Network for Kaggle ASL Dataset\n",
    "\n",
    "Created On: Jan 15, 2025 | Last Updated: Jan 26, 2025"
   ]
  },
  {
   "cell_type": "markdown",
   "metadata": {
    "id": "g9d7WPQhZd4x"
   },
   "source": [
    "# **Instructions of the Activity**\n",
    "\n"
   ]
  },
  {
   "cell_type": "markdown",
   "metadata": {
    "id": "Y6SQBEuPVCfa"
   },
   "source": [
    "#### Activity 1b: Implementing a Fully Connected Network for Kaggle ASL Dataset\n",
    "\n",
    "- Objective\n",
    "\n",
    "The aim of this part of the activity is to apply your understanding of Fully Connected Networks by implementing a multilayer network for the [Kaggle ASL (American Sign Language) dataset](https://www.kaggle.com/datasets/grassknoted/asl-alphabet). While you have been provided with a complete solution for a Fully Connected Network using Numpy for the MNIST dataset, you are encouraged to try to come up with the solution.\n",
    "\n",
    "- Instructions\n",
    "\n",
    "    This activity requires submission in teams of 3 or 4 members. Submissions from smaller or larger teams will not be accepted unless prior approval has been granted (only due to exceptional circumstances). While teamwork is encouraged, each member is expected to contribute individually to the assignment. The final submission should feature the best arguments and solutions from each team member. Only one person per team needs to submit the completed work, but it is imperative that the names of all team members are listed in a Markdown cell at the very beginning of the notebook (either the first or second cell). Failure to include all team member names will result in the grade being awarded solely to the individual who submitted the assignment, with zero points given to other team members (no exceptions will be made to this rule).\n",
    "\n",
    "    Load and Preprocess Data: You are provided a starter code to load the data. Be sure to understand the code.\n",
    "\n",
    "    Review MNIST Notebook (Optional): Before diving into this activity, you have the option to revisit the MNIST example to refresh your understanding of how to build a Fully Connected Network using Numpy.\n",
    "\n",
    "    Start Fresh: Although you can refer to the MNIST solution at any point, try to implement the network for the ASL dataset on your own. This will reinforce your learning and understanding of the architecture and mathematics involved.\n",
    "\n",
    "    Implement Forward and Backward Pass: Write the code to perform the forward and backward passes, keeping in mind the specific challenges and characteristics of the ASL dataset.\n",
    "    \n",
    "     Design the Network: Create the architecture of the Fully Connected Network tailored for the ASL dataset. Choose the number of hidden layers, neurons, and hyperparameters judiciously.\n",
    "\n",
    "    Train the Model: Execute the training loop, ensuring to track performance metrics such as loss and accuracy.\n",
    "\n",
    "    Analyze and Document: Use Markdown cells to document in detail the choices you made in terms of architecture and hyperparameters, you may use figures, equations, etc to aid in your explanations. Include any metrics that help justify these choices and discuss the model's performance.  "
   ]
  },
  {
   "cell_type": "markdown",
   "metadata": {
    "id": "nPkDoXB-KyxY"
   },
   "source": [
    "- Evaluation Criteria\n",
    "\n",
    "    - Code Readability and Comments\n",
    "    - Appropriateness of chosen architecture and hyperparameters for the ASL dataset\n",
    "    - Performance of the model on the ASL dataset (at least 70% acc)\n",
    "    - Quality of Markdown documentation\n",
    "\n",
    "- Submission\n",
    "\n",
    "Submit this Jupyter Notebook in canvas with your complete solution, ensuring your code is well-commented and includes Markdown cells that explain your design choices, results, and any challenges you encountered.\n",
    "\n",
    "In the following section the necessary libraries are imported.\n",
    "\n",
    "%load_ext autoreload`: This command loads the autoreload extension, which allows for automatic reloading of modules before executing code. This is useful during development to see changes without restarting the kernel.\n",
    "\n",
    "`%autoreload 2`: This command sets the autoreload mode to 2, which means all modules will be reloaded automatically before executing any code. This ensures that any changes made to the modules are reflected immediately.\n",
    "\n",
    "`%matplotlib inline`: This command enables the inline backend for Matplotlib, allowing plots to be displayed directly within the Jupyter Notebook, rather than in a separate window."
   ]
  },
  {
   "cell_type": "markdown",
   "metadata": {
    "id": "BqnTkR8vVTbK"
   },
   "source": [
    "# **Environment Setup**"
   ]
  },
  {
   "cell_type": "markdown",
   "metadata": {
    "id": "O4oZHDziatPG"
   },
   "source": [
    "Import the necessary libraries. NumPy for array handling, string for working with text strings, Pandas for data analysis, Matplotlib for visualization, OpenCV for image processing, and os for interacting with the operating system. %load_ext autoreload and %autoreload 2 are useful for automatically reloading modules in Jupyter Notebook/IPython.%matplotlib inline allows plots to be displayed directly in the notebook."
   ]
  },
  {
   "cell_type": "code",
   "execution_count": 1,
   "metadata": {
    "id": "ZS0z3KkzZd49"
   },
   "outputs": [],
   "source": [
    "import numpy as np\n",
    "import string\n",
    "import pandas as pd\n",
    "import matplotlib.pyplot as plt\n",
    "import cv2 as cv\n",
    "import os\n",
    "\n",
    "%load_ext autoreload\n",
    "%autoreload 2\n",
    "#################################\n",
    "%matplotlib inline\n"
   ]
  },
  {
   "cell_type": "markdown",
   "metadata": {
    "id": "40Owx2F2L2Zb"
   },
   "source": [
    "Imports the os module for interacting with the operating system and the drive module from google.colab to mount Google Drive in a Colab environment."
   ]
  },
  {
   "cell_type": "code",
   "execution_count": 2,
   "metadata": {
    "id": "dT8bgITaaqwU"
   },
   "outputs": [],
   "source": [
    "import os\n",
    "from google.colab import drive"
   ]
  },
  {
   "cell_type": "markdown",
   "metadata": {
    "id": "DhhCiyAkLtai"
   },
   "source": [
    "This code sets file paths in Google Drive within a Colab environment. It defines the base path to Google Drive, appends a specific directory for a course, and finally, points to a folder containing data files."
   ]
  },
  {
   "cell_type": "code",
   "execution_count": 3,
   "metadata": {
    "id": "bZS28K3nIiwX"
   },
   "outputs": [],
   "source": [
    "DRIVE_PATH = '/content/drive'\n",
    "DIR_PATH = DRIVE_PATH + '/My Drive/Colab Notebooks/Advanced Machine Learning Methods/A1b Kaggle'\n",
    "DATA_PATH = DIR_PATH + '/asl_data'"
   ]
  },
  {
   "cell_type": "code",
   "execution_count": 4,
   "metadata": {
    "colab": {
     "base_uri": "https://localhost:8080/"
    },
    "id": "0360bBBeI5HR",
    "outputId": "95bd61c2-5798-4ead-aeea-778ef4183337"
   },
   "outputs": [
    {
     "name": "stdout",
     "output_type": "stream",
     "text": [
      "Mounted at /content/drive\n"
     ]
    }
   ],
   "source": [
    "drive.mount(DRIVE_PATH)\n",
    "os.chdir(DIR_PATH)"
   ]
  },
  {
   "cell_type": "markdown",
   "metadata": {
    "id": "uij-dxayazPt"
   },
   "source": [
    "Load the training and validation datasets from CSV files."
   ]
  },
  {
   "cell_type": "code",
   "execution_count": 5,
   "metadata": {
    "id": "g89JPFjhZd5A"
   },
   "outputs": [],
   "source": [
    "train_df = pd.read_csv(os.path.join(DATA_PATH, 'sign_mnist_train.csv'))\n",
    "valid_df = pd.read_csv(os.path.join(DATA_PATH, 'sign_mnist_valid.csv'))"
   ]
  },
  {
   "cell_type": "code",
   "execution_count": 6,
   "metadata": {
    "colab": {
     "base_uri": "https://localhost:8080/",
     "height": 236
    },
    "id": "2kl94qymZd5B",
    "outputId": "d45c4afc-7380-4f2c-d121-7f55a30382f1"
   },
   "outputs": [
    {
     "data": {
      "application/vnd.google.colaboratory.intrinsic+json": {
       "type": "dataframe",
       "variable_name": "train_df"
      },
      "text/html": [
       "\n",
       "  <div id=\"df-f0be2c3f-c2ff-4e6e-a367-5c19f0c020e2\" class=\"colab-df-container\">\n",
       "    <div>\n",
       "<style scoped>\n",
       "    .dataframe tbody tr th:only-of-type {\n",
       "        vertical-align: middle;\n",
       "    }\n",
       "\n",
       "    .dataframe tbody tr th {\n",
       "        vertical-align: top;\n",
       "    }\n",
       "\n",
       "    .dataframe thead th {\n",
       "        text-align: right;\n",
       "    }\n",
       "</style>\n",
       "<table border=\"1\" class=\"dataframe\">\n",
       "  <thead>\n",
       "    <tr style=\"text-align: right;\">\n",
       "      <th></th>\n",
       "      <th>label</th>\n",
       "      <th>pixel1</th>\n",
       "      <th>pixel2</th>\n",
       "      <th>pixel3</th>\n",
       "      <th>pixel4</th>\n",
       "      <th>pixel5</th>\n",
       "      <th>pixel6</th>\n",
       "      <th>pixel7</th>\n",
       "      <th>pixel8</th>\n",
       "      <th>pixel9</th>\n",
       "      <th>...</th>\n",
       "      <th>pixel775</th>\n",
       "      <th>pixel776</th>\n",
       "      <th>pixel777</th>\n",
       "      <th>pixel778</th>\n",
       "      <th>pixel779</th>\n",
       "      <th>pixel780</th>\n",
       "      <th>pixel781</th>\n",
       "      <th>pixel782</th>\n",
       "      <th>pixel783</th>\n",
       "      <th>pixel784</th>\n",
       "    </tr>\n",
       "  </thead>\n",
       "  <tbody>\n",
       "    <tr>\n",
       "      <th>0</th>\n",
       "      <td>3</td>\n",
       "      <td>107</td>\n",
       "      <td>118</td>\n",
       "      <td>127</td>\n",
       "      <td>134</td>\n",
       "      <td>139</td>\n",
       "      <td>143</td>\n",
       "      <td>146</td>\n",
       "      <td>150</td>\n",
       "      <td>153</td>\n",
       "      <td>...</td>\n",
       "      <td>207</td>\n",
       "      <td>207</td>\n",
       "      <td>207</td>\n",
       "      <td>207</td>\n",
       "      <td>206</td>\n",
       "      <td>206</td>\n",
       "      <td>206</td>\n",
       "      <td>204</td>\n",
       "      <td>203</td>\n",
       "      <td>202</td>\n",
       "    </tr>\n",
       "    <tr>\n",
       "      <th>1</th>\n",
       "      <td>6</td>\n",
       "      <td>155</td>\n",
       "      <td>157</td>\n",
       "      <td>156</td>\n",
       "      <td>156</td>\n",
       "      <td>156</td>\n",
       "      <td>157</td>\n",
       "      <td>156</td>\n",
       "      <td>158</td>\n",
       "      <td>158</td>\n",
       "      <td>...</td>\n",
       "      <td>69</td>\n",
       "      <td>149</td>\n",
       "      <td>128</td>\n",
       "      <td>87</td>\n",
       "      <td>94</td>\n",
       "      <td>163</td>\n",
       "      <td>175</td>\n",
       "      <td>103</td>\n",
       "      <td>135</td>\n",
       "      <td>149</td>\n",
       "    </tr>\n",
       "    <tr>\n",
       "      <th>2</th>\n",
       "      <td>2</td>\n",
       "      <td>187</td>\n",
       "      <td>188</td>\n",
       "      <td>188</td>\n",
       "      <td>187</td>\n",
       "      <td>187</td>\n",
       "      <td>186</td>\n",
       "      <td>187</td>\n",
       "      <td>188</td>\n",
       "      <td>187</td>\n",
       "      <td>...</td>\n",
       "      <td>202</td>\n",
       "      <td>201</td>\n",
       "      <td>200</td>\n",
       "      <td>199</td>\n",
       "      <td>198</td>\n",
       "      <td>199</td>\n",
       "      <td>198</td>\n",
       "      <td>195</td>\n",
       "      <td>194</td>\n",
       "      <td>195</td>\n",
       "    </tr>\n",
       "    <tr>\n",
       "      <th>3</th>\n",
       "      <td>2</td>\n",
       "      <td>211</td>\n",
       "      <td>211</td>\n",
       "      <td>212</td>\n",
       "      <td>212</td>\n",
       "      <td>211</td>\n",
       "      <td>210</td>\n",
       "      <td>211</td>\n",
       "      <td>210</td>\n",
       "      <td>210</td>\n",
       "      <td>...</td>\n",
       "      <td>235</td>\n",
       "      <td>234</td>\n",
       "      <td>233</td>\n",
       "      <td>231</td>\n",
       "      <td>230</td>\n",
       "      <td>226</td>\n",
       "      <td>225</td>\n",
       "      <td>222</td>\n",
       "      <td>229</td>\n",
       "      <td>163</td>\n",
       "    </tr>\n",
       "    <tr>\n",
       "      <th>4</th>\n",
       "      <td>12</td>\n",
       "      <td>164</td>\n",
       "      <td>167</td>\n",
       "      <td>170</td>\n",
       "      <td>172</td>\n",
       "      <td>176</td>\n",
       "      <td>179</td>\n",
       "      <td>180</td>\n",
       "      <td>184</td>\n",
       "      <td>185</td>\n",
       "      <td>...</td>\n",
       "      <td>92</td>\n",
       "      <td>105</td>\n",
       "      <td>105</td>\n",
       "      <td>108</td>\n",
       "      <td>133</td>\n",
       "      <td>163</td>\n",
       "      <td>157</td>\n",
       "      <td>163</td>\n",
       "      <td>164</td>\n",
       "      <td>179</td>\n",
       "    </tr>\n",
       "  </tbody>\n",
       "</table>\n",
       "<p>5 rows × 785 columns</p>\n",
       "</div>\n",
       "    <div class=\"colab-df-buttons\">\n",
       "\n",
       "  <div class=\"colab-df-container\">\n",
       "    <button class=\"colab-df-convert\" onclick=\"convertToInteractive('df-f0be2c3f-c2ff-4e6e-a367-5c19f0c020e2')\"\n",
       "            title=\"Convert this dataframe to an interactive table.\"\n",
       "            style=\"display:none;\">\n",
       "\n",
       "  <svg xmlns=\"http://www.w3.org/2000/svg\" height=\"24px\" viewBox=\"0 -960 960 960\">\n",
       "    <path d=\"M120-120v-720h720v720H120Zm60-500h600v-160H180v160Zm220 220h160v-160H400v160Zm0 220h160v-160H400v160ZM180-400h160v-160H180v160Zm440 0h160v-160H620v160ZM180-180h160v-160H180v160Zm440 0h160v-160H620v160Z\"/>\n",
       "  </svg>\n",
       "    </button>\n",
       "\n",
       "  <style>\n",
       "    .colab-df-container {\n",
       "      display:flex;\n",
       "      gap: 12px;\n",
       "    }\n",
       "\n",
       "    .colab-df-convert {\n",
       "      background-color: #E8F0FE;\n",
       "      border: none;\n",
       "      border-radius: 50%;\n",
       "      cursor: pointer;\n",
       "      display: none;\n",
       "      fill: #1967D2;\n",
       "      height: 32px;\n",
       "      padding: 0 0 0 0;\n",
       "      width: 32px;\n",
       "    }\n",
       "\n",
       "    .colab-df-convert:hover {\n",
       "      background-color: #E2EBFA;\n",
       "      box-shadow: 0px 1px 2px rgba(60, 64, 67, 0.3), 0px 1px 3px 1px rgba(60, 64, 67, 0.15);\n",
       "      fill: #174EA6;\n",
       "    }\n",
       "\n",
       "    .colab-df-buttons div {\n",
       "      margin-bottom: 4px;\n",
       "    }\n",
       "\n",
       "    [theme=dark] .colab-df-convert {\n",
       "      background-color: #3B4455;\n",
       "      fill: #D2E3FC;\n",
       "    }\n",
       "\n",
       "    [theme=dark] .colab-df-convert:hover {\n",
       "      background-color: #434B5C;\n",
       "      box-shadow: 0px 1px 3px 1px rgba(0, 0, 0, 0.15);\n",
       "      filter: drop-shadow(0px 1px 2px rgba(0, 0, 0, 0.3));\n",
       "      fill: #FFFFFF;\n",
       "    }\n",
       "  </style>\n",
       "\n",
       "    <script>\n",
       "      const buttonEl =\n",
       "        document.querySelector('#df-f0be2c3f-c2ff-4e6e-a367-5c19f0c020e2 button.colab-df-convert');\n",
       "      buttonEl.style.display =\n",
       "        google.colab.kernel.accessAllowed ? 'block' : 'none';\n",
       "\n",
       "      async function convertToInteractive(key) {\n",
       "        const element = document.querySelector('#df-f0be2c3f-c2ff-4e6e-a367-5c19f0c020e2');\n",
       "        const dataTable =\n",
       "          await google.colab.kernel.invokeFunction('convertToInteractive',\n",
       "                                                    [key], {});\n",
       "        if (!dataTable) return;\n",
       "\n",
       "        const docLinkHtml = 'Like what you see? Visit the ' +\n",
       "          '<a target=\"_blank\" href=https://colab.research.google.com/notebooks/data_table.ipynb>data table notebook</a>'\n",
       "          + ' to learn more about interactive tables.';\n",
       "        element.innerHTML = '';\n",
       "        dataTable['output_type'] = 'display_data';\n",
       "        await google.colab.output.renderOutput(dataTable, element);\n",
       "        const docLink = document.createElement('div');\n",
       "        docLink.innerHTML = docLinkHtml;\n",
       "        element.appendChild(docLink);\n",
       "      }\n",
       "    </script>\n",
       "  </div>\n",
       "\n",
       "\n",
       "<div id=\"df-7560e39f-ac35-4454-9117-6cbd9697151b\">\n",
       "  <button class=\"colab-df-quickchart\" onclick=\"quickchart('df-7560e39f-ac35-4454-9117-6cbd9697151b')\"\n",
       "            title=\"Suggest charts\"\n",
       "            style=\"display:none;\">\n",
       "\n",
       "<svg xmlns=\"http://www.w3.org/2000/svg\" height=\"24px\"viewBox=\"0 0 24 24\"\n",
       "     width=\"24px\">\n",
       "    <g>\n",
       "        <path d=\"M19 3H5c-1.1 0-2 .9-2 2v14c0 1.1.9 2 2 2h14c1.1 0 2-.9 2-2V5c0-1.1-.9-2-2-2zM9 17H7v-7h2v7zm4 0h-2V7h2v10zm4 0h-2v-4h2v4z\"/>\n",
       "    </g>\n",
       "</svg>\n",
       "  </button>\n",
       "\n",
       "<style>\n",
       "  .colab-df-quickchart {\n",
       "      --bg-color: #E8F0FE;\n",
       "      --fill-color: #1967D2;\n",
       "      --hover-bg-color: #E2EBFA;\n",
       "      --hover-fill-color: #174EA6;\n",
       "      --disabled-fill-color: #AAA;\n",
       "      --disabled-bg-color: #DDD;\n",
       "  }\n",
       "\n",
       "  [theme=dark] .colab-df-quickchart {\n",
       "      --bg-color: #3B4455;\n",
       "      --fill-color: #D2E3FC;\n",
       "      --hover-bg-color: #434B5C;\n",
       "      --hover-fill-color: #FFFFFF;\n",
       "      --disabled-bg-color: #3B4455;\n",
       "      --disabled-fill-color: #666;\n",
       "  }\n",
       "\n",
       "  .colab-df-quickchart {\n",
       "    background-color: var(--bg-color);\n",
       "    border: none;\n",
       "    border-radius: 50%;\n",
       "    cursor: pointer;\n",
       "    display: none;\n",
       "    fill: var(--fill-color);\n",
       "    height: 32px;\n",
       "    padding: 0;\n",
       "    width: 32px;\n",
       "  }\n",
       "\n",
       "  .colab-df-quickchart:hover {\n",
       "    background-color: var(--hover-bg-color);\n",
       "    box-shadow: 0 1px 2px rgba(60, 64, 67, 0.3), 0 1px 3px 1px rgba(60, 64, 67, 0.15);\n",
       "    fill: var(--button-hover-fill-color);\n",
       "  }\n",
       "\n",
       "  .colab-df-quickchart-complete:disabled,\n",
       "  .colab-df-quickchart-complete:disabled:hover {\n",
       "    background-color: var(--disabled-bg-color);\n",
       "    fill: var(--disabled-fill-color);\n",
       "    box-shadow: none;\n",
       "  }\n",
       "\n",
       "  .colab-df-spinner {\n",
       "    border: 2px solid var(--fill-color);\n",
       "    border-color: transparent;\n",
       "    border-bottom-color: var(--fill-color);\n",
       "    animation:\n",
       "      spin 1s steps(1) infinite;\n",
       "  }\n",
       "\n",
       "  @keyframes spin {\n",
       "    0% {\n",
       "      border-color: transparent;\n",
       "      border-bottom-color: var(--fill-color);\n",
       "      border-left-color: var(--fill-color);\n",
       "    }\n",
       "    20% {\n",
       "      border-color: transparent;\n",
       "      border-left-color: var(--fill-color);\n",
       "      border-top-color: var(--fill-color);\n",
       "    }\n",
       "    30% {\n",
       "      border-color: transparent;\n",
       "      border-left-color: var(--fill-color);\n",
       "      border-top-color: var(--fill-color);\n",
       "      border-right-color: var(--fill-color);\n",
       "    }\n",
       "    40% {\n",
       "      border-color: transparent;\n",
       "      border-right-color: var(--fill-color);\n",
       "      border-top-color: var(--fill-color);\n",
       "    }\n",
       "    60% {\n",
       "      border-color: transparent;\n",
       "      border-right-color: var(--fill-color);\n",
       "    }\n",
       "    80% {\n",
       "      border-color: transparent;\n",
       "      border-right-color: var(--fill-color);\n",
       "      border-bottom-color: var(--fill-color);\n",
       "    }\n",
       "    90% {\n",
       "      border-color: transparent;\n",
       "      border-bottom-color: var(--fill-color);\n",
       "    }\n",
       "  }\n",
       "</style>\n",
       "\n",
       "  <script>\n",
       "    async function quickchart(key) {\n",
       "      const quickchartButtonEl =\n",
       "        document.querySelector('#' + key + ' button');\n",
       "      quickchartButtonEl.disabled = true;  // To prevent multiple clicks.\n",
       "      quickchartButtonEl.classList.add('colab-df-spinner');\n",
       "      try {\n",
       "        const charts = await google.colab.kernel.invokeFunction(\n",
       "            'suggestCharts', [key], {});\n",
       "      } catch (error) {\n",
       "        console.error('Error during call to suggestCharts:', error);\n",
       "      }\n",
       "      quickchartButtonEl.classList.remove('colab-df-spinner');\n",
       "      quickchartButtonEl.classList.add('colab-df-quickchart-complete');\n",
       "    }\n",
       "    (() => {\n",
       "      let quickchartButtonEl =\n",
       "        document.querySelector('#df-7560e39f-ac35-4454-9117-6cbd9697151b button');\n",
       "      quickchartButtonEl.style.display =\n",
       "        google.colab.kernel.accessAllowed ? 'block' : 'none';\n",
       "    })();\n",
       "  </script>\n",
       "</div>\n",
       "\n",
       "    </div>\n",
       "  </div>\n"
      ],
      "text/plain": [
       "   label  pixel1  pixel2  pixel3  pixel4  pixel5  pixel6  pixel7  pixel8  \\\n",
       "0      3     107     118     127     134     139     143     146     150   \n",
       "1      6     155     157     156     156     156     157     156     158   \n",
       "2      2     187     188     188     187     187     186     187     188   \n",
       "3      2     211     211     212     212     211     210     211     210   \n",
       "4     12     164     167     170     172     176     179     180     184   \n",
       "\n",
       "   pixel9  ...  pixel775  pixel776  pixel777  pixel778  pixel779  pixel780  \\\n",
       "0     153  ...       207       207       207       207       206       206   \n",
       "1     158  ...        69       149       128        87        94       163   \n",
       "2     187  ...       202       201       200       199       198       199   \n",
       "3     210  ...       235       234       233       231       230       226   \n",
       "4     185  ...        92       105       105       108       133       163   \n",
       "\n",
       "   pixel781  pixel782  pixel783  pixel784  \n",
       "0       206       204       203       202  \n",
       "1       175       103       135       149  \n",
       "2       198       195       194       195  \n",
       "3       225       222       229       163  \n",
       "4       157       163       164       179  \n",
       "\n",
       "[5 rows x 785 columns]"
      ]
     },
     "execution_count": 6,
     "metadata": {},
     "output_type": "execute_result"
    }
   ],
   "source": [
    "train_df.head()"
   ]
  },
  {
   "cell_type": "markdown",
   "metadata": {
    "id": "9W0epBC7Zd5C"
   },
   "source": [
    "# **Import Images**"
   ]
  },
  {
   "cell_type": "markdown",
   "metadata": {
    "id": "5q14yx1UMJqh"
   },
   "source": [
    "\n",
    "Let's prepare the data for our model. We'll separate the image labels (the sign language letter) from the pixel data (the image itself). The code extracts the labels into y_train and y_val, then removes the labels from the original dataframes. Finally, the pixel data is converted to NumPy arrays (x_train, x_val) for efficient processing. This prepares our features and labels for the next steps."
   ]
  },
  {
   "cell_type": "code",
   "execution_count": 7,
   "metadata": {
    "id": "uaFnai00Zd5D"
   },
   "outputs": [],
   "source": [
    "y_train = np.array(train_df['label'])\n",
    "y_val = np.array(valid_df['label'])\n",
    "del train_df['label']\n",
    "del valid_df['label']\n",
    "x_train = train_df.values.astype(np.float32)\n",
    "x_val = valid_df.values.astype(np.float32)"
   ]
  },
  {
   "cell_type": "code",
   "execution_count": 8,
   "metadata": {
    "colab": {
     "base_uri": "https://localhost:8080/"
    },
    "id": "hmBBVydAcYKO",
    "outputId": "be08d66e-733e-4825-f435-bfb2cd5cc52b"
   },
   "outputs": [
    {
     "data": {
      "text/plain": [
       "(7172, 784)"
      ]
     },
     "execution_count": 8,
     "metadata": {},
     "output_type": "execute_result"
    }
   ],
   "source": [
    "x_val.shape"
   ]
  },
  {
   "cell_type": "markdown",
   "metadata": {
    "id": "0YuY3yINMaGq"
   },
   "source": [
    "We need to define a function that splits a validation set into a validation and test set (this is important because we'll use the validation set to tune our model's performance during training, and the test set to evaluate its final performance on unseen data). It accepts input data (x) and labels (y), with optional parameters for the percentage (pct) to use for testing and whether to shuffle the data (shuffle). It shuffles the data if specified, then splits it into validation and test sets based on the given percentage and returns the split sets."
   ]
  },
  {
   "cell_type": "code",
   "execution_count": 9,
   "metadata": {
    "code_folding": [],
    "id": "dGcvODx9Zd5F"
   },
   "outputs": [],
   "source": [
    "def split_val_test(x, y, pct=0.5, shuffle=True):\n",
    "  '''\n",
    "  Splits the input data into validation and test sets.\n",
    "\n",
    "  Args:\n",
    "      x (numpy.ndarray): Input data to be split.\n",
    "      y (numpy.ndarray): Corresponding labels.\n",
    "      pct (float, optional): Percentage of the data to use for validation. Defaults to 0.5.\n",
    "      shuffle (bool, optional): Whether to shuffle the data before splitting. Defaults to True.\n",
    "\n",
    "  Returns:\n",
    "      tuple: A tuple containing the validation and test sets (x_val, y_val, x_test, y_test).\n",
    "  '''\n",
    "  if shuffle:\n",
    "      idx = np.arange(len(y))\n",
    "      np.random.shuffle(idx)\n",
    "      x = x[idx]\n",
    "      y = y[idx]\n",
    "\n",
    "  split_idx = int(len(y) * pct)\n",
    "\n",
    "  x_val, x_test = x[:split_idx], x[split_idx:]\n",
    "  y_val, y_test = y[:split_idx], y[split_idx:]\n",
    "\n",
    "  return x_val, y_val, x_test, y_test  # Return the split sets"
   ]
  },
  {
   "cell_type": "code",
   "execution_count": 10,
   "metadata": {
    "id": "nkLDS5mrZd5I"
   },
   "outputs": [],
   "source": [
    "## The validation data is split, and 2 data groups are received (x_val, x_test & y_val, y_test)\n",
    "x_val, y_val, x_test, y_test = split_val_test(x_val, y_val)"
   ]
  },
  {
   "cell_type": "code",
   "execution_count": 11,
   "metadata": {
    "colab": {
     "base_uri": "https://localhost:8080/"
    },
    "id": "MeSfBfuecP-9",
    "outputId": "cba8b1c2-304b-4140-b90f-d2bd054adbe0"
   },
   "outputs": [
    {
     "data": {
      "text/plain": [
       "(3586, 784)"
      ]
     },
     "execution_count": 11,
     "metadata": {},
     "output_type": "execute_result"
    }
   ],
   "source": [
    "x_val.shape"
   ]
  },
  {
   "cell_type": "code",
   "execution_count": 12,
   "metadata": {
    "colab": {
     "base_uri": "https://localhost:8080/"
    },
    "id": "bP7WPhK4cfsL",
    "outputId": "c51bdedf-04c8-4016-fe05-8109bef5d385"
   },
   "outputs": [
    {
     "data": {
      "text/plain": [
       "(3586, 784)"
      ]
     },
     "execution_count": 12,
     "metadata": {},
     "output_type": "execute_result"
    }
   ],
   "source": [
    "x_test.shape"
   ]
  },
  {
   "cell_type": "markdown",
   "metadata": {
    "id": "LBKy-jUugR-p"
   },
   "source": [
    "The following code prepares the alphabet labels for our sign language dataset. The Sign Language MNIST dataset doesn't include the letters 'j' and 'z' because they require motion to be signed. Therefore, we need to create a list of the alphabet without these two letters."
   ]
  },
  {
   "cell_type": "code",
   "execution_count": 13,
   "metadata": {
    "colab": {
     "base_uri": "https://localhost:8080/"
    },
    "id": "N1ZyRDyyZd5J",
    "outputId": "d1860e3f-2704-479a-f596-6567ec930af9"
   },
   "outputs": [
    {
     "name": "stdout",
     "output_type": "stream",
     "text": [
      "24\n"
     ]
    }
   ],
   "source": [
    "alphabet=list(string.ascii_lowercase) # List of all alphabet letters in lowercase (26 letters)\n",
    "alphabet.remove('j')\n",
    "alphabet.remove('z')\n",
    "print(len(alphabet)) # 24 letters left"
   ]
  },
  {
   "cell_type": "markdown",
   "metadata": {
    "id": "9bXzNOGeZd5L"
   },
   "source": [
    "# **Normalize**"
   ]
  },
  {
   "cell_type": "markdown",
   "metadata": {
    "id": "tdB837ptMNSq"
   },
   "source": [
    "\n",
    "The range of features is standardized or normalized to ensure they are on similar scales.\n",
    "\n",
    "**Why is this necessary?**\n",
    "- To ensure that all variables are, in principle, equally competitive in their relevance to the model's construction.\n",
    "- It prevents excessive oscillations during error minimization methods like gradient descent, helping them converge more effectively.\n",
    "- Algorithms that rely on distance calculations are also impacted by the magnitude of the features.\n",
    "\n",
    "In this section, the Z-score or Gaussian Transformation is used to standardize the pixel values of the images. This transformation adjusts the pixel intensities to have a mean of 0 and a standard deviation of 1.\n",
    "\n",
    "By standardizing the pixel values, the neural network benefits from improved numerical stability during training, allowing the optimization algorithms, such as gradient descent, to converge more efficiently. This preprocessing step ensures that the pixel values are on a similar scale, which helps the network learn patterns more effectively and speeds up the training process."
   ]
  },
  {
   "cell_type": "code",
   "execution_count": 14,
   "metadata": {
    "id": "tTGmJ-C0dNMz"
   },
   "outputs": [],
   "source": [
    "def normalize(x_mean, x_std, x_data):\n",
    "    '''\n",
    "      Normalizes the data using the mean and standard deviation from x.\n",
    "\n",
    "      Args:\n",
    "        x_mean (float): Mean of the data.\n",
    "        x_std (float): Standard deviation of the data.\n",
    "        x_data (numpy.ndarray): Data to be normalized.\n",
    "\n",
    "      Returns:\n",
    "        numpy.ndarray: Normalized data.\n",
    "    '''\n",
    "    return (x_data - x_mean) / x_std"
   ]
  },
  {
   "cell_type": "code",
   "execution_count": 15,
   "metadata": {
    "colab": {
     "base_uri": "https://localhost:8080/"
    },
    "id": "C4PCQqBLdGbj",
    "outputId": "7f164afd-31b4-4de4-9dcd-5994a802822a"
   },
   "outputs": [
    {
     "data": {
      "text/plain": [
       "(159.29083, 48.76953, 0.0)"
      ]
     },
     "execution_count": 15,
     "metadata": {},
     "output_type": "execute_result"
    }
   ],
   "source": [
    "# Current mean, std and min values from x_train\n",
    "x_train.mean(), x_train.std(), x_train.min()"
   ]
  },
  {
   "cell_type": "markdown",
   "metadata": {
    "id": "SVkedq0xiL7Z"
   },
   "source": [
    "Normalize the pixel data in our training, validation, and test sets. Normalization is a common preprocessing step in machine learning that helps improve model performance. First, we calculate the mean (x_mean) and standard deviation (x_std) of the pixel values in the training set. Then, we use these values to normalize the training, validation, and test sets using a normalize function. This ensures that all datasets are transformed using the same statistics, derived from the training data."
   ]
  },
  {
   "cell_type": "code",
   "execution_count": 16,
   "metadata": {
    "id": "sCx4H6ENdSWY"
   },
   "outputs": [],
   "source": [
    "# Create mean and std variables to pass to our normalise function\n",
    "x_mean = x_train.mean()\n",
    "x_std = x_train.std()\n",
    "\n",
    "# Normalize data in our datasets\n",
    "x_train = normalize(x_mean, x_std, x_train)\n",
    "x_val = normalize(x_mean, x_std, x_val)\n",
    "x_test = normalize(x_mean, x_std, x_test)"
   ]
  },
  {
   "cell_type": "code",
   "execution_count": 17,
   "metadata": {
    "colab": {
     "base_uri": "https://localhost:8080/"
    },
    "id": "c5tJYiAKddHK",
    "outputId": "4fcfc002-a846-4ce9-d7a1-66b06ccdff6c"
   },
   "outputs": [
    {
     "data": {
      "text/plain": [
       "(3.6268384e-06, 0.99999946, -3.2661958)"
      ]
     },
     "execution_count": 17,
     "metadata": {},
     "output_type": "execute_result"
    }
   ],
   "source": [
    "# New mean, std and min values from x_train\n",
    "x_train.mean(), x_train.std(), x_train.min()"
   ]
  },
  {
   "cell_type": "markdown",
   "metadata": {
    "id": "nXKFpAPhZd5M"
   },
   "source": [
    "# **Plotting Samples**"
   ]
  },
  {
   "cell_type": "markdown",
   "metadata": {
    "id": "2xgN2nq6Nlpy"
   },
   "source": [
    "This function displays an image in grayscale. It creates a figure, shows the image with a grayscale colormap, hides the axis for a cleaner appearance, and then renders the plot that corresponds to the desired letter."
   ]
  },
  {
   "cell_type": "code",
   "execution_count": 18,
   "metadata": {
    "id": "ggmm73JDhNn_"
   },
   "outputs": [],
   "source": [
    "# Declare a function to print the images\n",
    "def plot_letter(image):\n",
    "    '''\n",
    "    Plots a single image from the ASL Dataset.\n",
    "\n",
    "    Args:\n",
    "        image (numpy.ndarray): The image to be plotted.\n",
    "    '''\n",
    "    if image.ndim == 1:  # Check if the image is flattened\n",
    "      image_reshaped = image.reshape(28, 28)\n",
    "    elif image.shape == (28, 28): # Check if it's already the correct shape\n",
    "      image_reshaped = image\n",
    "    else:\n",
    "      raise ValueError(\"Image must be a flattened array (784 elements) or a 28x28 array.\")\n",
    "\n",
    "    plt.figure(figsize=(2, 2))\n",
    "    plt.imshow(image_reshaped, cmap=plt.get_cmap('gray')) # No need for squeeze() now\n",
    "    plt.axis('off')\n",
    "    plt.show()"
   ]
  },
  {
   "cell_type": "markdown",
   "metadata": {
    "id": "BXYJg66lkI7S"
   },
   "source": [
    "This code snippet picks a random image from the test set, tells what letter that image represents according to the label, and then shows the image itself."
   ]
  },
  {
   "cell_type": "code",
   "execution_count": 19,
   "metadata": {
    "colab": {
     "base_uri": "https://localhost:8080/",
     "height": 209
    },
    "id": "8ZuGNG45hR86",
    "outputId": "f68b0588-5fb1-469f-bd95-a07288fed5e0"
   },
   "outputs": [
    {
     "name": "stdout",
     "output_type": "stream",
     "text": [
      "The sampled image represents the letter: m\n"
     ]
    },
    {
     "data": {
      "image/png": "[encoded data removed]",
      "text/plain": [
       "<Figure size 200x200 with 1 Axes>"
      ]
     },
     "metadata": {},
     "output_type": "display_data"
    }
   ],
   "source": [
    "rnd_idx = np.random.randint(len(y_test))\n",
    "print(f'The sampled image represents the letter: {alphabet[y_test[rnd_idx]]}')\n",
    "plot_letter(x_test[rnd_idx])"
   ]
  },
  {
   "cell_type": "markdown",
   "metadata": {
    "id": "vrRRjORLlYgK"
   },
   "source": [
    "# **Equations for our model**"
   ]
  },
  {
   "cell_type": "markdown",
   "metadata": {
    "id": "fVw9LF8iZd5M"
   },
   "source": [
    "\n",
    "$$z^1 = W^1 X + b^1$$\n",
    "\n",
    "$$a^1 = ReLU(z^1) $$\n",
    "\n",
    "$$z^2 = W^2 a^1 + b^2$$\n",
    "\n",
    "$$\\hat{y} = \\frac{e^{z^{2_k}}}{\\sum_j{e^{z_j}}}$$\n",
    "\n",
    "\n",
    "$$ \\mathcal{L}(\\hat{y}^{i}, y^{i}) =  - y^{i}  \\ln(\\hat{y}^{i}) = -\\ln(\\hat{y}^i)$$\n",
    "\n",
    "\n",
    "$$ \\mathcal{J}(w, b) =  \\frac{1}{num\\_samples} \\sum_{i=1}^{num\\_samples}-\\ln(\\hat{y}^{i})$$"
   ]
  },
  {
   "cell_type": "markdown",
   "metadata": {
    "id": "xtenB3ZhZd5N"
   },
   "source": [
    "# **Additional Functions**"
   ]
  },
  {
   "cell_type": "markdown",
   "metadata": {
    "id": "WjGDOMAvZd5N"
   },
   "source": [
    "### **Mini batches**"
   ]
  },
  {
   "cell_type": "markdown",
   "metadata": {
    "id": "zA8X4GK4ONRx"
   },
   "source": [
    "This function creates **mini-batches** from the dataset. It takes the mini-batch size (mb_size), input features (x), labels (y), and an optional shuffle parameter. It shuffles the data if specified, checks that the number of samples in x and y match, and returns a generator that yields mini-batches of x and y. Using mini-batches is a standard practice in training machine learning models, especially with large datasets, as it helps improve efficiency and stability of the training process."
   ]
  },
  {
   "cell_type": "code",
   "execution_count": 20,
   "metadata": {
    "id": "MnMyfd16Zd5N"
   },
   "outputs": [],
   "source": [
    "# This will allow us to train the model later sending only a section of the data at a time,\n",
    "# which will make the training more efficient than sending the whole data at once\n",
    "def create_minibatches(size, x, y, shuffle = True):\n",
    "    '''\n",
    "    Creates minibatches of data of a certaing size.\n",
    "\n",
    "    Args:\n",
    "        size (int): Size of each minibatch.\n",
    "        x (numpy.ndarray): Input data.\n",
    "        y (numpy.ndarray): Labels.\n",
    "        shuffle (bool, optional): Whether to shuffle the data before creating minibatches. Defaults to True.\n",
    "\n",
    "    Returns:\n",
    "        generator: A generator that yields minibatches of data.\n",
    "    '''\n",
    "    # Ensure that the number of samples in x and y are the same\n",
    "    assert x.shape[0] == y.shape[0], 'Error in sample quantity'\n",
    "\n",
    "    # Get the total number of samples\n",
    "    total_data = x.shape[0]\n",
    "\n",
    "    # Shuffle the data if specified\n",
    "    if shuffle:\n",
    "        idxs = np.arange(total_data)\n",
    "        np.random.shuffle(idxs)\n",
    "        x = x[idxs]\n",
    "        y = y[idxs]\n",
    "\n",
    "    # Create and return a generator for mini-batches\n",
    "    return ((x[i:i+size], y[i:i+size]) for i in range(0, total_data, size))"
   ]
  },
  {
   "cell_type": "markdown",
   "metadata": {
    "id": "JJLRUow0n6bw"
   },
   "source": [
    "The next class inherits from numpy array, but allows us to add attributes later to the parameters, such as .grad for the gradient of the parameter."
   ]
  },
  {
   "cell_type": "code",
   "execution_count": 21,
   "metadata": {
    "id": "U3-CDzhEjHCz"
   },
   "outputs": [],
   "source": [
    "class np_tensor(np.ndarray): pass"
   ]
  },
  {
   "cell_type": "markdown",
   "metadata": {
    "id": "YBYGOiRqZd5N"
   },
   "source": [
    "# **Our class Linear, ReLU and Sequential**"
   ]
  },
  {
   "cell_type": "markdown",
   "metadata": {
    "id": "WZNZZOWHZd5O"
   },
   "source": [
    "### **Class Linear**"
   ]
  },
  {
   "cell_type": "markdown",
   "metadata": {
    "id": "9bfFUc7OOIib"
   },
   "source": [
    "NNs are composed of a chain of connected neurons usually organized in ***n*** layers.  These layers are fully connected with the next and previous layers, and no connections exist between neurons of the same layer *(Scabini & Bruno, 2023, p. 1)*.\n",
    "\n",
    "One of the basic principles of conventional neural networks is to cascade non-linear aggregation functions that are supposed to mimic the functioning of natural neurons, hence their name “artificial neurons”. the conventional neuron is the succession of a weighted addition performing a balance and a non-linearity performing a choice *(Strauss et al., 2025, pp. 1-2)*.\n",
    "\n",
    "This section describes a basic implementation of a neuron in a fully connected layer, represented by the Linear class. This class simulates the behavior of a neuron by performing both the forward and backward passes, essential for training a neural network.\n",
    "\n",
    "During initialization, the weights of the neuron (W) are set using Kaiming He initialization. This approach ensures better convergence during training by scaling the weights appropriately based on the input size. The biases (b) are initialized to zero, providing a starting point for adjustments during training.\n",
    "\n",
    "The forward pass is implemented in the *__call__* method, where the input data (X) is transformed using the formula:\n",
    "$$\n",
    "Z = W \\cdot X + b\n",
    "$$\n",
    "\n",
    "Here, the weights and biases adjust the input data to produce the neuron's output, which is later passed to the activation function.\n",
    "\n",
    "The backward method handles the gradient computations required during backpropagation. It calculates the gradient of the loss with respect to the inputs (X), weights (W), and biases (b). This step is crucial for updating the parameters of the neuron in subsequent training iterations, allowing the network to minimize the error. This method applies the following formulas:\n",
    "\n",
    "**Gradient of the Input (X)**\n",
    "   $$\n",
    "   X.\\text{grad} = W^\\top \\cdot Z.\\text{grad}\n",
    "   $$\n",
    "\n",
    "**Gradient of the Weights (W):**\n",
    "   $$\n",
    "   W.\\text{grad} = Z.\\text{grad} \\cdot X^\\top\n",
    "   $$\n",
    "\n",
    "**Gradient of the Biases (b):**\n",
    "   $$\n",
    "   b.\\text{grad} = \\sum Z.\\text{grad}\n",
    "   $$\n"
   ]
  },
  {
   "cell_type": "markdown",
   "metadata": {
    "id": "mPV4INBOr6m2"
   },
   "source": [
    "The next code defines a **Linear class**, which represents a fully connected layer in a neural network. It includes the forward and backward pass logic necessary for training the layer using gradient descent."
   ]
  },
  {
   "cell_type": "code",
   "execution_count": 22,
   "metadata": {
    "id": "xnJkylGOjMD6"
   },
   "outputs": [],
   "source": [
    "class Linear():\n",
    "    def __init__(self, input_size, output_size):\n",
    "        '''\n",
    "        Inits parameters using Kaiming He\n",
    "\n",
    "        Args:\n",
    "            input_size (int): Number of input neurons.\n",
    "            output_size (int): Number of output neurons.\n",
    "        '''\n",
    "        self.W = (np.random.randn(output_size, input_size) / np.sqrt(input_size/2)).view(np_tensor)\n",
    "        self.b = (np.zeros((output_size, 1))).view(np_tensor)\n",
    "    def __call__(self, X):\n",
    "        '''\n",
    "        Performs the forward pass of the linear layer.\n",
    "        It uses the dunder function __call__ to make the forward pass using the instance of this class directly.\n",
    "\n",
    "        Args:\n",
    "            X (numpy.ndarray): Input data matrix.\n",
    "\n",
    "        Returns:\n",
    "            numpy.ndarray: Output of the linear layer.\n",
    "        '''\n",
    "        Z = self.W @ X + self.b # Represents formula Z = Wx + b\n",
    "        return Z\n",
    "    def backward(self, X, Z):\n",
    "        '''\n",
    "        Performs the backward pass of the linear layer.\n",
    "\n",
    "        Args:\n",
    "            X (numpy.ndarray): Input data matrix.\n",
    "            Z (numpy.ndarray): Output of the linear layer.\n",
    "        '''\n",
    "        X.grad = self.W.T @ Z.grad # We need to transposed W so dimensions match\n",
    "        self.W.grad = Z.grad @ X.T\n",
    "        self.b.grad = np.sum(Z.grad, axis = 1, keepdims=True) # Z is a matrix of dimensions: num neurons * num items in minibatch, here we sum each column, then with \"axis=1\" we put it in one dimension so it matches dimension in \"b\"\n"
   ]
  },
  {
   "cell_type": "markdown",
   "metadata": {
    "id": "poCqthglZd5O"
   },
   "source": [
    "### **Class ReLU**"
   ]
  },
  {
   "cell_type": "markdown",
   "metadata": {
    "id": "xpsjax2GYwUH"
   },
   "source": [
    "ReLU (Rectified Linear Unit) is an activation function applied to the neurons, except for those in the output layer. This function has been found to outperform other activation functions, such as the sigmoid function, in deep neural networks *(Agyeman et al., 2024, p. 286)*.\n",
    "\n",
    "ReLU activation functions have demonstrated superior performance due to their ability to mitigate the vanishing gradient problem and accelerate convergence. The latter by introducing non-linearity and enhancing the model's capacity to capture complex relationships within the data *(Tipu et al., 2023, p. 7)*.\n",
    "\n",
    "In the forward pass, the ReLU function is applied to the input data 𝑍 (which is the output of the linear transformation from the previous layer). The ReLU activation function replaces all negative values with zero, while leaving positive values unchanged. This is mathematically expressed as:\n",
    "$$\n",
    "\\text{ReLU}(Z) = \\max(0, Z)\n",
    "$$\n",
    "\n",
    "This transformation allows the network to introduce sparsity in the activations, which can help improve the model's generalization ability by reducing overfitting.\n",
    "\n",
    "During the backward pass, ReLU is differentiable except at zero. In this step, the gradients are propagated backward through the network. The gradient of the ReLU function is 1 for all positive values and 0 for all negative values (since the function is flat at negative values). Therefore, when performing the backpropagation, the gradient is preserved for positive values of Z, and the gradient is set to zero for non-positive values. The backward pass can be mathematically described as:\n",
    "$$\n",
    "\\frac{\\partial L}{\\partial Z} =\n",
    "\\begin{cases}\n",
    "1, & \\text{if } Z > 0 \\\\\n",
    "0, & \\text{if } Z \\leq 0\n",
    "\\end{cases}\n",
    "$$"
   ]
  },
  {
   "cell_type": "markdown",
   "metadata": {
    "id": "mHghRRSIt2-u"
   },
   "source": [
    "The next code defines a **class ReLU** implementing the Rectified Linear Unit activation function, a common choice in neural networks.\n",
    "\n",
    "__call__ (self, Z) applies the ReLU activation function, replacing the negative values of Z with 0 and leaving the positive values unchanged.\n",
    "\n",
    "**backward** (self, Z, A) calculates the gradient of the ReLU activation funcitona with respect to Z during the backpropagation step. It sets the gradients to 0 for the negative values of Z and copies the gradients for the positive values of Z."
   ]
  },
  {
   "cell_type": "code",
   "execution_count": 23,
   "metadata": {
    "id": "3JZ1guCujx3r"
   },
   "outputs": [],
   "source": [
    "class ReLU():\n",
    "    def __call__(self, Z):\n",
    "        '''\n",
    "        Performs the forward pass of the ReLU activation function.\n",
    "\n",
    "        Args:\n",
    "            Z (numpy.ndarray): Input data (Output of the Linear function).\n",
    "\n",
    "        Returns:\n",
    "            numpy.ndarray: Output of the ReLU activation function.\n",
    "        '''\n",
    "        return np.maximum(0, Z)\n",
    "    def backward(self, Z, A):\n",
    "        '''\n",
    "        Performs the backward pass of the ReLU activation function.\n",
    "\n",
    "        Args:\n",
    "            Z (numpy.ndarray): Input data (Output of the Linear function).\n",
    "            A (numpy.ndarray): Output of the ReLU activation function.\n",
    "        '''\n",
    "        Z.grad = A.grad.copy()\n",
    "        Z.grad[Z <= 0] = 0"
   ]
  },
  {
   "cell_type": "markdown",
   "metadata": {
    "id": "2w5KRrIJZd5O"
   },
   "source": [
    "### **Class Sequential**"
   ]
  },
  {
   "cell_type": "markdown",
   "metadata": {
    "id": "NDqj5ipIeuDF"
   },
   "source": [
    "The use of artificial neuronal network or ANNs is also growing, as they are a powerful, useful and effective tool for the prediction of different variables of interest. More specifically, the backpropagation predictive model has proved to be a predictive tool, showing adequate model fit and network learning capability *(Pagan-Garbín et al., 2024)*.\n",
    "\n",
    "This class represents a basic neural network model, designed to stack layers (such as linear and activation functions) and manage their interactions during training and inference.\n",
    "\n",
    "__Initialization__: The model is initialized with a list of layers, which can include linear transformations and activation functions like ReLU. Outputs from each layer are stored in a dictionary for use during forward and backward passes.\n",
    "\n",
    "__Forward Pass__: The forward pass computes the outputs of each layer sequentially. For the first layer, the computation involves a linear transformation followed by the ReLU activation:\n",
    "$$z^1 = W^1 X + b^1$$\n",
    "\n",
    "The activation for the first layer is then computed using the ReLU function (Where 𝑎1 is the output of the activation, which is passed to the next layer):\n",
    "$$a^1 = ReLU(z^1) $$\n",
    "\n",
    "For the second layer, a similar linear transformation is applied to the output of the previous activation:\n",
    "$$z^2 = W^2 a^1 + b^2$$\n",
    "\n",
    "__Backward Pass__: The backward pass computes gradients for each layer starting from the output layer, propagating errors back to earlier layers. For each layer, the gradients of the loss with respect to the weights *W* and biases *b* are calculated using the chain rule.\n",
    "\n",
    "__Parameter Updates__: During updates, weights *W* and biases *b* are adjusted using the gradients and the learning rate 𝑎. Formulas:\n",
    "$$\n",
    "W^l = W^l - \\alpha \\cdot \\frac{\\partial W^l}{\\partial L}, \\quad b^l = b^l - \\alpha \\cdot \\frac{\\partial b^l}{\\partial L}\n",
    "$$\n",
    "\n",
    "\n",
    "__Prediction__: The model predicts the class label for input X by:\n",
    "$$\n",
    "\\text{prediction} = \\arg\\max(\\text{output})\n",
    "$$\n"
   ]
  },
  {
   "cell_type": "markdown",
   "metadata": {
    "id": "FdQzEYz3vVIw"
   },
   "source": [
    "The next code stores a list of layers that could be a **Relu or Linear** object and will iterate on this list in order to execute the forward pass or the backward propagation, storing the values of the corresponding activations of each layer."
   ]
  },
  {
   "cell_type": "code",
   "execution_count": 24,
   "metadata": {
    "id": "bA6eDstSjzvf"
   },
   "outputs": [],
   "source": [
    "class Sequential_layers():\n",
    "    def __init__(self, layers):\n",
    "        '''\n",
    "        Inits a sequential model.\n",
    "\n",
    "        Args:\n",
    "            layers (list): List of layers (Objects that can be Linear of ReLU).\n",
    "        '''\n",
    "        self.layers = layers  # It stores these layers in a list called self.layers\n",
    "        self.x = None         # self.x (used to store intermediate outputs during the forward pass)\n",
    "        self.outputs = {}     # self.outputs (a dictionary to store the outputs of each layer for use in the backward pass)\n",
    "\n",
    "    def __call__(self, X):\n",
    "        '''\n",
    "        Performs the forward pass of the sequential model.\n",
    "\n",
    "        Args:\n",
    "            X (numpy.ndarray): Input data matrix. This will be the images in this activity, ie. the input of the whole neural network\n",
    "\n",
    "        Returns:\n",
    "            numpy.ndarray: Output of the sequential model.\n",
    "        '''\n",
    "        self.x = X  # Initialize x with the input data, representing the first layer (input layer)\n",
    "        self.outputs['l0'] = self.x # Layer 0 will be the inputs (images) themselves\n",
    "        for i, layer in enumerate(self.layers, 1):\n",
    "            self.x = layer(self.x)  # Layer contains an object of type: \"neural network layer\", so, here we'll call the function __call__ from the Linear or ReLU and save the output in x (override the variable)\n",
    "            self.outputs['l'+str(i)] = self.x # The same output from before is saved permanently here\n",
    "        return self.x # Note: In the last layer, this will be the scores\n",
    "\n",
    "    def backward(self):\n",
    "        '''\n",
    "        Performs the backward pass of the sequential model. This step computes the gradients for each layer\n",
    "        by propagating the error backwards through the network.\n",
    "\n",
    "        The gradients are used to update the parameters of each layer during training.\n",
    "        '''\n",
    "        for i in reversed(range(len(self.layers))):\n",
    "            self.layers[i].backward(self.outputs['l'+str(i)], self.outputs['l'+str(i+1)]) # We use input and output from each layer, saved in outputs (outputs[i] and outputs[i+1] respectively)\n",
    "\n",
    "    def update(self, learning_rate = 1e-3):\n",
    "        '''\n",
    "        Updates the parameters (weights and biases) of the sequential model using gradient descent.\n",
    "\n",
    "         Args:\n",
    "        learning_rate (float, optional): The rate at which the model updates its parameters.\n",
    "                                          A smaller value results in slower updates. Defaults to 1e-3.\n",
    "        '''\n",
    "        for layer in self.layers:\n",
    "            if isinstance(layer, ReLU): continue # If it's a ReLU layer (which has no parameters),we don't do any updates\n",
    "            # Update the weights (W) and biases (b) of each layer using the computed gradients\n",
    "            # The update rule is: parameter = parameter - learning_rate * gradient\n",
    "            layer.W = layer.W - learning_rate * layer.W.grad # Update weights using the gradient of weights\n",
    "            layer.b = layer.b - learning_rate * layer.b.grad # Update biases using the gradient of biases\n",
    "\n",
    "    def predict(self, X):\n",
    "        '''\n",
    "        Predicts the class of a given input by passing it through the trained model.\n",
    "\n",
    "        Args:\n",
    "        X (numpy.ndarray): Input data matrix. Typically, this will be a set of test samples or new data points.\n",
    "\n",
    "        Returns:\n",
    "        numpy.ndarray: Predicted class. This is the class with the highest probability from the model's output.\n",
    "        '''\n",
    "        return np.argmax(self.__call__(X)) #Pass the input X through the model to get the final scores, then return the index of the highest score (predicted class)"
   ]
  },
  {
   "cell_type": "markdown",
   "metadata": {
    "id": "F7ZS9CNBZd5O"
   },
   "source": [
    "### **Cost Function**"
   ]
  },
  {
   "cell_type": "markdown",
   "metadata": {
    "id": "sZ8XN-_7ff_L"
   },
   "source": [
    "NN models are usually trained using first order optimization methods that rely on calculation of the gradient of objective function according to model parameters. These optimization algorithms form the basis for a machine to learn through its experience. Algorithm performance is judged by the fact that in optimization: “how close is the expected output to the desired output?” This is achieved by the loss function of the network *(Barati et al., 2025, pp. 5-6)*.\n",
    "\n",
    "In many ways to boost the performance of CNNs, optimizing the classification loss is an effective method since the loss provides gradients to update weights of CNNs and guides the convergence procedure directly *(Zhang et al., 2025, p. 2)*.\n",
    "\n",
    "One of the most fundamental model used in the modern machine learning society as a base of the loss function, which classifies the samples into different classes is Softmax *(Ye et al, 2024, p. 1)*.\n",
    "\n",
    "In the context of multi-class classification, the softmax activation function is commonly employed to transform the raw output of a neural network into a probability distribution. This ensures that the model assigns a probability to each class.\n",
    "\n",
    "The cross-entropy loss, on the other hand, quantifies how well the predicted probabilities align with the true class labels. By combining these two steps into a single function, the process becomes computationally efficient and seamlessly integrated.\n",
    "\n",
    "Softmax with Cross-Entropy Loss function performs two main operations:\n",
    "  - Softmax Transformation: For each input in a batch, the function calculates the exponential scores of the raw outputs. These scores are normalized by dividing them by the sum of all exponential scores across the classes. This yields a vector of probabilities (probs) for each input. Formula:\n",
    "  $$\n",
    "  \\text{softmax}(x_i) = \\frac{\\exp(x_i)}{\\sum_{j} \\exp(x_j)}\n",
    "  $$\n",
    "\n",
    "  - Cross-Entropy Loss Calculation: Using the true class labels, the function extracts the predicted probabilities for the correct classes (ŷ) and computes the logarithm of these probabilities. The negative log-probabilities are then averaged across the batch to yield the loss value. This loss reflects the confidence of the model in its predictions. Formula:\n",
    "  $$\n",
    "  \\text{loss} = -\\frac{1}{N} \\sum_{i=1}^{N} \\log(p(ŷ{_i}))\n",
    "  $$\n"
   ]
  },
  {
   "cell_type": "markdown",
   "metadata": {
    "id": "MBU0hpcB1mvj"
   },
   "source": [
    "In the next code we use **Softmax** for the output of the neural network, but we'll need the cost function, so we put the two together in one function."
   ]
  },
  {
   "cell_type": "code",
   "execution_count": 25,
   "metadata": {
    "id": "BUnBk7bLj1uD"
   },
   "outputs": [],
   "source": [
    "def softmaxXEntropy(x, y):\n",
    "    '''\n",
    "    Computes the softmax activation function and the cross-entropy loss.\n",
    "\n",
    "    Args:\n",
    "        x (numpy.ndarray): Input data.\n",
    "        y (numpy.ndarray): Labels.\n",
    "\n",
    "    Returns:\n",
    "        tuple: A tuple containing the predictions (scores) and the cross-entropy loss value.\n",
    "    '''\n",
    "    batch_size = x.shape[1] # Get the number of samples in the batch\n",
    "    exp_scores = np.exp(x)  # Apply the exponential function to each score (logit)\n",
    "    probs = exp_scores / exp_scores.sum(axis = 0) # Normalize the scores to get probabilities (softmax)\n",
    "    preds = probs.copy() # Copy the probabilities as predictions\n",
    "    # Cost computation using cross-entropy loss\n",
    "    #Using advanced indexing, we extract the probabilities corresponding to the true labels:\n",
    "    y_hat = probs[y.squeeze(), np.arange(batch_size)] # Get the predicted probabilities for the true classes\n",
    "    cost = np.sum(-np.log(y_hat)) / batch_size  # Calculate the cross-entropy loss\n",
    "     # Gradients calculation (for backpropagation)\n",
    "    probs[y.squeeze(), np.arange(batch_size)] -= 1 # Subtract 1 from the probability of the true class\n",
    "    x.grad = probs.copy() # Set the gradient of the input as the modified probabilities\n",
    "\n",
    "    return preds, cost # Return predictions and the loss value"
   ]
  },
  {
   "cell_type": "markdown",
   "metadata": {
    "id": "sc_1UbCoZd5P"
   },
   "source": [
    "### **Training Loop**"
   ]
  },
  {
   "cell_type": "markdown",
   "metadata": {
    "id": "kbqL_SCRPJ1c"
   },
   "source": [
    "This function calculates the **accuracy** of a model's predictions. It iterates over mini-batches of input data (x) and labels (y), gets the model's predictions, counts the correct predictions, and calculates the total number of predictions. Finally, it returns the accuracy as the ratio of correct predictions to total predictions."
   ]
  },
  {
   "cell_type": "code",
   "execution_count": 26,
   "metadata": {
    "id": "x7ojKCIaj7Mk"
   },
   "outputs": [],
   "source": [
    "def accuracy(x, y, mb_size):\n",
    "    '''\n",
    "    Computes the accuracy of the model.\n",
    "\n",
    "    Args:\n",
    "        x (numpy.ndarray): Input data.\n",
    "        y (numpy.ndarray): Labels.\n",
    "        mb_size (int): Size of each minibatch.\n",
    "\n",
    "    Returns:\n",
    "        float: Accuracy of the model.\n",
    "    '''\n",
    "    correct = 0\n",
    "    total = 0\n",
    "    for i, (x, y) in enumerate(create_minibatches(mb_size, x, y)):\n",
    "        pred = model(x.T.view(np_tensor))\n",
    "        correct += np.sum(np.argmax(pred, axis=0) == y.squeeze())\n",
    "        total += pred.shape[1]\n",
    "    return correct/total"
   ]
  },
  {
   "cell_type": "markdown",
   "metadata": {
    "id": "a_KiJIN9Pei0"
   },
   "source": [
    "This function **train** a model for a specified number of epochs. It takes the model, number of epochs, mini-batch size (mb_size), and learning rate as arguments. For each mini-batch, it computes the model's scores, calculates the cost using softmax cross-entropy, performs backpropagation, and updates the model's parameters. After each epoch, it prints the cost and accuracy on the validation set."
   ]
  },
  {
   "cell_type": "code",
   "execution_count": 27,
   "metadata": {
    "id": "a5s2unM4j5AV"
   },
   "outputs": [],
   "source": [
    "#The default mb_size is 128 and the learning rate es 1e-3\n",
    "def train(model, epochs, mb_size=128, learning_rate=1e-3, patience=5, plot=True):\n",
    "    '''\n",
    "    Trains the model with early stopping and plots the metrics.\n",
    "\n",
    "    Args:\n",
    "        model (Sequential_layers): Model to be trained.\n",
    "        epochs (int): Number of epochs to train the model.\n",
    "        mb_size (int, optional): Size of each minibatch. Defaults to 128.\n",
    "        learning_rate (float, optional): Value for the learning rate. Defaults to 1e-3.\n",
    "        patience (int, optional): Number of epochs to wait for improvement before stopping. Defaults to 5.\n",
    "    '''\n",
    "    best_val_accuracy = 0\n",
    "    patience_counter = 0\n",
    "\n",
    "    # Lists to store metrics\n",
    "    train_costs = []\n",
    "    val_accuracies = []\n",
    "\n",
    "    for epoch in range(epochs):\n",
    "        epoch_cost = 0  # Track cost for the epoch\n",
    "        # Training loop\n",
    "        for i, (x, y) in enumerate(create_minibatches(mb_size, x_train, y_train)):\n",
    "            scores = model(x.T.view(np_tensor))  # Forward pass\n",
    "            _, cost = softmaxXEntropy(scores, y)  # Compute cost\n",
    "            model.backward()  # Backpropagation\n",
    "            model.update(learning_rate)  # Update weights\n",
    "            epoch_cost += cost  # Accumulate cost for the epoch\n",
    "\n",
    "        train_costs.append(epoch_cost / len(x_train))  # Average cost per sample\n",
    "        val_accuracy = accuracy(x_val, y_val, mb_size)\n",
    "        val_accuracies.append(val_accuracy)\n",
    "\n",
    "        print(f'Epoch {epoch+1}/{epochs}, Cost: {epoch_cost:.6f}, Validation Accuracy: {val_accuracy:.6f}')\n",
    "\n",
    "        # Early stopping logic\n",
    "        if val_accuracy > best_val_accuracy:\n",
    "            best_val_accuracy = val_accuracy\n",
    "            patience_counter = 0  # Reset patience counter\n",
    "        else:\n",
    "            patience_counter += 1\n",
    "            print(f'No improvement for {patience_counter} epochs.')\n",
    "\n",
    "        if patience_counter >= patience:\n",
    "            print('Early stopping triggered.')\n",
    "            break\n",
    "\n",
    "    # Plotting metrics\n",
    "    if plot:\n",
    "      plot_metrics(train_costs, val_accuracies)#Plots cost function and validation accuracy"
   ]
  },
  {
   "cell_type": "markdown",
   "metadata": {
    "id": "CkSMORkf8jo0"
   },
   "source": [
    "We added the function plot_metric to quickly compare model architectures based on the plotting of the cost and validation curves. This function is automaticall called from training if the argument \"plot\" is called."
   ]
  },
  {
   "cell_type": "code",
   "execution_count": 28,
   "metadata": {
    "id": "iQKdSffB8kBi"
   },
   "outputs": [],
   "source": [
    "def plot_metrics(train_costs, val_accuracies):\n",
    "    '''\n",
    "    Plots the training cost and validation accuracy lists received from the train function.\n",
    "\n",
    "    Args:\n",
    "        train_costs (list): List of training costs per epoch.\n",
    "        val_accuracies (list): List of validation accuracies per epoch.\n",
    "    '''\n",
    "    epochs = range(1, len(train_costs) + 1)\n",
    "\n",
    "    # Plot training cost\n",
    "    plt.figure(figsize=(12, 6))\n",
    "    plt.subplot(1, 2, 1)\n",
    "    plt.plot(epochs, train_costs, label='Training Cost', marker='o')\n",
    "    plt.xlabel('Epochs')\n",
    "    plt.ylabel('Cost')\n",
    "    plt.title('Training Cost vs. Epochs')\n",
    "    plt.legend()\n",
    "\n",
    "    # Plot validation accuracy\n",
    "    plt.subplot(1, 2, 2)\n",
    "    plt.plot(epochs, val_accuracies, label='Validation Accuracy', marker='o', color='green')\n",
    "    plt.xlabel('Epochs')\n",
    "    plt.ylabel('Accuracy')\n",
    "    plt.title('Validation Accuracy vs. Epochs')\n",
    "    plt.legend()\n",
    "\n",
    "    plt.tight_layout()\n",
    "    plt.show()"
   ]
  },
  {
   "cell_type": "markdown",
   "metadata": {
    "id": "GR1SsjRUZd5P"
   },
   "source": [
    "### **Create the model and train it**"
   ]
  },
  {
   "cell_type": "markdown",
   "metadata": {
    "id": "FcopOM5pPsed"
   },
   "source": [
    "This code defines a sequential model with multiple layers. The model consists of definition of linear layers with ReLU activation functions in between. It also sets the mini-batch size, the learning rate, and the number of epochs for training."
   ]
  },
  {
   "cell_type": "markdown",
   "metadata": {
    "id": "fVDK0r4Zhi2s"
   },
   "source": [
    "**Model Architecture and Hyperparameter Justification**\n",
    "\n",
    "The model follows a fully connected neural network structure with the following layers:\n",
    "  - Input Layer: Linear layer with 784 input features and 300 output features.\n",
    "  - Hidden Layers: Three fully connected layers, each with 300 neurons, followed by ReLU activations.\n",
    "  - Output Layer: Linear layer with 24 output features.\n",
    "\n",
    "The three hidden layers with ReLU activation ensure the model has sufficient capacity to learn complex, non-linear relationships in the data. The choice of 300 neurons per layer strikes a balance between representational power and overfitting risk.\n",
    "\n",
    "Hyperparameter Selection:\n",
    "  - Batch Size (mb_size = 512): A batch size of 512 was selected to take full advantage of GPU acceleration while ensuring consistent and stable gradient updates during backpropagation.\n",
    "  - Learning Rate (learning_rate = 1e-3): A moderate learning rate was selected to ensure convergence without overshooting the optimal solution.\n",
    "  - Epochs (epochs = 200): Although the model was set to train for up to 200 epochs, early stopping with patience=50 prevented unnecessary training once validation performance plateaued."
   ]
  },
  {
   "cell_type": "code",
   "execution_count": 29,
   "metadata": {
    "id": "1_nDKQVSZd5P"
   },
   "outputs": [],
   "source": [
    "model = Sequential_layers([Linear(784, 300), ReLU(), Linear(300, 300), ReLU(), Linear(300, 300), ReLU(), Linear(300, 24)])\n",
    "mb_size = 512\n",
    "learning_rate = 1e-3\n",
    "epochs = 200"
   ]
  },
  {
   "cell_type": "code",
   "execution_count": 30,
   "metadata": {
    "colab": {
     "base_uri": "https://localhost:8080/",
     "height": 1000
    },
    "id": "TLPy7O4fkEDe",
    "outputId": "4a7f0b66-4230-4e5d-a68d-a599b359adca"
   },
   "outputs": [
    {
     "name": "stdout",
     "output_type": "stream",
     "text": [
      "Epoch 1/200, Cost: 83.365024, Validation Accuracy: 0.766592\n",
      "Epoch 2/200, Cost: 2.807121, Validation Accuracy: 0.796431\n",
      "Epoch 3/200, Cost: 0.409600, Validation Accuracy: 0.808701\n",
      "Epoch 4/200, Cost: 0.218340, Validation Accuracy: 0.812047\n",
      "Epoch 5/200, Cost: 0.145939, Validation Accuracy: 0.811768\n",
      "No improvement for 1 epochs.\n",
      "Epoch 6/200, Cost: 0.108211, Validation Accuracy: 0.813999\n",
      "Epoch 7/200, Cost: 0.085583, Validation Accuracy: 0.811489\n",
      "No improvement for 1 epochs.\n",
      "Epoch 8/200, Cost: 0.070260, Validation Accuracy: 0.811489\n",
      "No improvement for 2 epochs.\n",
      "Epoch 9/200, Cost: 0.059229, Validation Accuracy: 0.812326\n",
      "No improvement for 3 epochs.\n",
      "Epoch 10/200, Cost: 0.051035, Validation Accuracy: 0.812605\n",
      "No improvement for 4 epochs.\n",
      "Epoch 11/200, Cost: 0.044721, Validation Accuracy: 0.812883\n",
      "No improvement for 5 epochs.\n",
      "Epoch 12/200, Cost: 0.039736, Validation Accuracy: 0.811768\n",
      "No improvement for 6 epochs.\n",
      "Epoch 13/200, Cost: 0.035793, Validation Accuracy: 0.813720\n",
      "No improvement for 7 epochs.\n",
      "Epoch 14/200, Cost: 0.032414, Validation Accuracy: 0.813441\n",
      "No improvement for 8 epochs.\n",
      "Epoch 15/200, Cost: 0.029617, Validation Accuracy: 0.813441\n",
      "No improvement for 9 epochs.\n",
      "Epoch 16/200, Cost: 0.027187, Validation Accuracy: 0.815672\n",
      "Epoch 17/200, Cost: 0.025179, Validation Accuracy: 0.815114\n",
      "No improvement for 1 epochs.\n",
      "Epoch 18/200, Cost: 0.023413, Validation Accuracy: 0.815114\n",
      "No improvement for 2 epochs.\n",
      "Epoch 19/200, Cost: 0.021868, Validation Accuracy: 0.815672\n",
      "No improvement for 3 epochs.\n",
      "Epoch 20/200, Cost: 0.020464, Validation Accuracy: 0.817066\n",
      "Epoch 21/200, Cost: 0.019289, Validation Accuracy: 0.816509\n",
      "No improvement for 1 epochs.\n",
      "Epoch 22/200, Cost: 0.018173, Validation Accuracy: 0.817903\n",
      "Epoch 23/200, Cost: 0.017192, Validation Accuracy: 0.817345\n",
      "No improvement for 1 epochs.\n",
      "Epoch 24/200, Cost: 0.016297, Validation Accuracy: 0.817066\n",
      "No improvement for 2 epochs.\n",
      "Epoch 25/200, Cost: 0.015479, Validation Accuracy: 0.817624\n",
      "No improvement for 3 epochs.\n",
      "Epoch 26/200, Cost: 0.014760, Validation Accuracy: 0.818461\n",
      "Epoch 27/200, Cost: 0.014113, Validation Accuracy: 0.817903\n",
      "No improvement for 1 epochs.\n",
      "Epoch 28/200, Cost: 0.013477, Validation Accuracy: 0.819018\n",
      "Epoch 29/200, Cost: 0.012918, Validation Accuracy: 0.819297\n",
      "Epoch 30/200, Cost: 0.012378, Validation Accuracy: 0.819855\n",
      "Epoch 31/200, Cost: 0.011914, Validation Accuracy: 0.819018\n",
      "No improvement for 1 epochs.\n",
      "Epoch 32/200, Cost: 0.011445, Validation Accuracy: 0.819297\n",
      "No improvement for 2 epochs.\n",
      "Epoch 33/200, Cost: 0.011037, Validation Accuracy: 0.819297\n",
      "No improvement for 3 epochs.\n",
      "Epoch 34/200, Cost: 0.010649, Validation Accuracy: 0.819576\n",
      "No improvement for 4 epochs.\n",
      "Epoch 35/200, Cost: 0.010282, Validation Accuracy: 0.819297\n",
      "No improvement for 5 epochs.\n",
      "Epoch 36/200, Cost: 0.009949, Validation Accuracy: 0.819576\n",
      "No improvement for 6 epochs.\n",
      "Epoch 37/200, Cost: 0.009619, Validation Accuracy: 0.819576\n",
      "No improvement for 7 epochs.\n",
      "Epoch 38/200, Cost: 0.009321, Validation Accuracy: 0.820413\n",
      "Epoch 39/200, Cost: 0.009039, Validation Accuracy: 0.819855\n",
      "No improvement for 1 epochs.\n",
      "Epoch 40/200, Cost: 0.008763, Validation Accuracy: 0.820413\n",
      "No improvement for 2 epochs.\n",
      "Epoch 41/200, Cost: 0.008510, Validation Accuracy: 0.820134\n",
      "No improvement for 3 epochs.\n",
      "Epoch 42/200, Cost: 0.008261, Validation Accuracy: 0.820413\n",
      "No improvement for 4 epochs.\n",
      "Epoch 43/200, Cost: 0.008042, Validation Accuracy: 0.820970\n",
      "Epoch 44/200, Cost: 0.007828, Validation Accuracy: 0.820970\n",
      "No improvement for 1 epochs.\n",
      "Epoch 45/200, Cost: 0.007609, Validation Accuracy: 0.821249\n",
      "Epoch 46/200, Cost: 0.007424, Validation Accuracy: 0.821249\n",
      "No improvement for 1 epochs.\n",
      "Epoch 47/200, Cost: 0.007230, Validation Accuracy: 0.821528\n",
      "Epoch 48/200, Cost: 0.007052, Validation Accuracy: 0.821249\n",
      "No improvement for 1 epochs.\n",
      "Epoch 49/200, Cost: 0.006883, Validation Accuracy: 0.820970\n",
      "No improvement for 2 epochs.\n",
      "Epoch 50/200, Cost: 0.006730, Validation Accuracy: 0.820970\n",
      "No improvement for 3 epochs.\n",
      "Epoch 51/200, Cost: 0.006569, Validation Accuracy: 0.821249\n",
      "No improvement for 4 epochs.\n",
      "Epoch 52/200, Cost: 0.006421, Validation Accuracy: 0.820970\n",
      "No improvement for 5 epochs.\n",
      "Epoch 53/200, Cost: 0.006287, Validation Accuracy: 0.821249\n",
      "No improvement for 6 epochs.\n",
      "Epoch 54/200, Cost: 0.006146, Validation Accuracy: 0.821249\n",
      "No improvement for 7 epochs.\n",
      "Epoch 55/200, Cost: 0.006004, Validation Accuracy: 0.821528\n",
      "No improvement for 8 epochs.\n",
      "Epoch 56/200, Cost: 0.005884, Validation Accuracy: 0.821249\n",
      "No improvement for 9 epochs.\n",
      "Epoch 57/200, Cost: 0.005767, Validation Accuracy: 0.820970\n",
      "No improvement for 10 epochs.\n",
      "Epoch 58/200, Cost: 0.005647, Validation Accuracy: 0.820970\n",
      "No improvement for 11 epochs.\n",
      "Epoch 59/200, Cost: 0.005527, Validation Accuracy: 0.820692\n",
      "No improvement for 12 epochs.\n",
      "Epoch 60/200, Cost: 0.005418, Validation Accuracy: 0.820970\n",
      "No improvement for 13 epochs.\n",
      "Epoch 61/200, Cost: 0.005322, Validation Accuracy: 0.820970\n",
      "No improvement for 14 epochs.\n",
      "Epoch 62/200, Cost: 0.005221, Validation Accuracy: 0.820692\n",
      "No improvement for 15 epochs.\n",
      "Epoch 63/200, Cost: 0.005130, Validation Accuracy: 0.820413\n",
      "No improvement for 16 epochs.\n",
      "Epoch 64/200, Cost: 0.005035, Validation Accuracy: 0.820692\n",
      "No improvement for 17 epochs.\n",
      "Epoch 65/200, Cost: 0.004936, Validation Accuracy: 0.820692\n",
      "No improvement for 18 epochs.\n",
      "Epoch 66/200, Cost: 0.004855, Validation Accuracy: 0.820970\n",
      "No improvement for 19 epochs.\n",
      "Epoch 67/200, Cost: 0.004777, Validation Accuracy: 0.820692\n",
      "No improvement for 20 epochs.\n",
      "Epoch 68/200, Cost: 0.004680, Validation Accuracy: 0.820970\n",
      "No improvement for 21 epochs.\n",
      "Epoch 69/200, Cost: 0.004608, Validation Accuracy: 0.820970\n",
      "No improvement for 22 epochs.\n",
      "Epoch 70/200, Cost: 0.004525, Validation Accuracy: 0.820970\n",
      "No improvement for 23 epochs.\n",
      "Epoch 71/200, Cost: 0.004455, Validation Accuracy: 0.820692\n",
      "No improvement for 24 epochs.\n",
      "Epoch 72/200, Cost: 0.004381, Validation Accuracy: 0.821249\n",
      "No improvement for 25 epochs.\n",
      "Epoch 73/200, Cost: 0.004307, Validation Accuracy: 0.820970\n",
      "No improvement for 26 epochs.\n",
      "Epoch 74/200, Cost: 0.004245, Validation Accuracy: 0.820970\n",
      "No improvement for 27 epochs.\n",
      "Epoch 75/200, Cost: 0.004185, Validation Accuracy: 0.820970\n",
      "No improvement for 28 epochs.\n",
      "Epoch 76/200, Cost: 0.004117, Validation Accuracy: 0.820970\n",
      "No improvement for 29 epochs.\n",
      "Epoch 77/200, Cost: 0.004053, Validation Accuracy: 0.820970\n",
      "No improvement for 30 epochs.\n",
      "Epoch 78/200, Cost: 0.003989, Validation Accuracy: 0.820970\n",
      "No improvement for 31 epochs.\n",
      "Epoch 79/200, Cost: 0.003940, Validation Accuracy: 0.820970\n",
      "No improvement for 32 epochs.\n",
      "Epoch 80/200, Cost: 0.003872, Validation Accuracy: 0.820970\n",
      "No improvement for 33 epochs.\n",
      "Epoch 81/200, Cost: 0.003826, Validation Accuracy: 0.820970\n",
      "No improvement for 34 epochs.\n",
      "Epoch 82/200, Cost: 0.003764, Validation Accuracy: 0.820692\n",
      "No improvement for 35 epochs.\n",
      "Epoch 83/200, Cost: 0.003719, Validation Accuracy: 0.820692\n",
      "No improvement for 36 epochs.\n",
      "Epoch 84/200, Cost: 0.003660, Validation Accuracy: 0.820692\n",
      "No improvement for 37 epochs.\n",
      "Epoch 85/200, Cost: 0.003620, Validation Accuracy: 0.820692\n",
      "No improvement for 38 epochs.\n",
      "Epoch 86/200, Cost: 0.003568, Validation Accuracy: 0.820413\n",
      "No improvement for 39 epochs.\n",
      "Epoch 87/200, Cost: 0.003513, Validation Accuracy: 0.820413\n",
      "No improvement for 40 epochs.\n",
      "Epoch 88/200, Cost: 0.003473, Validation Accuracy: 0.820413\n",
      "No improvement for 41 epochs.\n",
      "Epoch 89/200, Cost: 0.003426, Validation Accuracy: 0.820413\n",
      "No improvement for 42 epochs.\n",
      "Epoch 90/200, Cost: 0.003383, Validation Accuracy: 0.820692\n",
      "No improvement for 43 epochs.\n",
      "Epoch 91/200, Cost: 0.003343, Validation Accuracy: 0.820692\n",
      "No improvement for 44 epochs.\n",
      "Epoch 92/200, Cost: 0.003297, Validation Accuracy: 0.820970\n",
      "No improvement for 45 epochs.\n",
      "Epoch 93/200, Cost: 0.003257, Validation Accuracy: 0.820970\n",
      "No improvement for 46 epochs.\n",
      "Epoch 94/200, Cost: 0.003222, Validation Accuracy: 0.820970\n",
      "No improvement for 47 epochs.\n",
      "Epoch 95/200, Cost: 0.003180, Validation Accuracy: 0.820970\n",
      "No improvement for 48 epochs.\n",
      "Epoch 96/200, Cost: 0.003144, Validation Accuracy: 0.821249\n",
      "No improvement for 49 epochs.\n",
      "Epoch 97/200, Cost: 0.003103, Validation Accuracy: 0.821528\n",
      "No improvement for 50 epochs.\n",
      "Early stopping triggered.\n"
     ]
    },
    {
     "data": {
      "image/png": "[encoded data removed]",
      "text/plain": [
       "<Figure size 1200x600 with 2 Axes>"
      ]
     },
     "metadata": {},
     "output_type": "display_data"
    }
   ],
   "source": [
    "train(model, epochs, mb_size, learning_rate, patience=50, plot=True)"
   ]
  },
  {
   "cell_type": "markdown",
   "metadata": {
    "id": "NspBYf1qjTFH"
   },
   "source": [
    "Conclusion of the model training process:\n",
    "  - The training process shows consistent improvement in cost and validation accuracy during the initial epochs.\n",
    "  - The validation accuracy plateaued around 80.5%, with minimal fluctuations during the final epochs, suggesting convergence.\n",
    "  - The cost decreased logarithmically, reflecting effective learning during the initial training stages.\n",
    "  - Validation accuracy consistently improved up to epoch 72, after which improvements became negligible.\n"
   ]
  },
  {
   "cell_type": "markdown",
   "metadata": {
    "id": "L08JngQxZd5Q"
   },
   "source": [
    "### **Test the model on Random Data from the test set**"
   ]
  },
  {
   "cell_type": "code",
   "execution_count": 31,
   "metadata": {
    "colab": {
     "base_uri": "https://localhost:8080/"
    },
    "id": "JEVxxQqGD7BM",
    "outputId": "577a99ce-b410-4a2a-b8a8-b9bacd4a4f63"
   },
   "outputs": [
    {
     "name": "stdout",
     "output_type": "stream",
     "text": [
      "0.8165086447295036\n"
     ]
    }
   ],
   "source": [
    "print(accuracy(x_test, y_test, mb_size))"
   ]
  },
  {
   "cell_type": "code",
   "execution_count": 38,
   "metadata": {
    "colab": {
     "base_uri": "https://localhost:8080/",
     "height": 209
    },
    "id": "hCXPeRiJZd5Q",
    "outputId": "6a7214fe-d58a-4f9a-adba-84f637c31638"
   },
   "outputs": [
    {
     "data": {
      "image/png": "[encoded data removed]",
      "text/plain": [
       "<Figure size 200x200 with 1 Axes>"
      ]
     },
     "metadata": {},
     "output_type": "display_data"
    },
    {
     "name": "stdout",
     "output_type": "stream",
     "text": [
      "Predicted value is: t when real value is: t\n"
     ]
    }
   ],
   "source": [
    "idx = np.random.randint(len(y_test))\n",
    "plot_letter(x_test[idx].reshape(28,28))\n",
    "pred = model.predict(x_test[idx].reshape(-1, 1))\n",
    "print(f'Predicted value is: {alphabet[pred]} when real value is: {alphabet[y_test[idx]]}')"
   ]
  },
  {
   "cell_type": "markdown",
   "metadata": {
    "id": "jKwW67cIBTBz"
   },
   "source": [
    "### **References**"
   ]
  },
  {
   "cell_type": "markdown",
   "metadata": {
    "id": "6dmwcaipSxkT"
   },
   "source": [
    "Agyeman, B., Liu, J., & Shah, S. (2024). ReLU surrogates in mixed-integer MPC for irrigation scheduling. *Chemical Engineering Research and Design*, *211*, 285-298. https://doi.org/10.1016/j.cherd.2024.10.005.\n",
    "\n",
    "Barati, B., Erfaninejad, M., Khanbabaei, H. (2025). Evaluation of effect of optimizers and loss functions on prediction accuracy of brain tumor type using a Light neural network. *Biomedical Signal Processing and Control*, *103*, 1-17. https://doi.org/10.1016/j.bspc.2024.107409.\n",
    "\n",
    "Scabini, L., & Bruno, O. (2023). Structure and performance of fully connected neural networks: Emerging complex network properties. *Physica A: Statistical Mechanics and its Applications*, *615*, 1-17. https://doi.org/10.1016/j.physa.2023.128585.\n",
    "\n",
    "Pagan-Garbín, I., Méndez, I., & Martínez-Ramon, J. P. (2024). Exploration of stress, burnout and technostress levels in teachers. Prediction of their resilience levels using an artificial neuronal network (ANN). *Teaching and Teacher Education*, *148*, 1-11. https://doi.org/10.1016/j.tate.2024.104717.\n",
    "\n",
    "Strauss, O., Rico, A., Pasquet, J., & Pibre, L. (2025). Combining thresholded real values for designing an artificial neuron in a neural network. *Fuzzy Sets and Systems*, *449*, 1-15. https://doi.org/10.1016/j.fss.2024.109191.\n",
    "\n",
    "Tipu, R. K., Batra, V., Suman, Pandya, K.S., & Panchal, V.R. (2023). Shear capacity prediction for FRCM-strengthened RC beams using Hybrid ReLU-Activated BPNN model. *Structures*, *58*, 1-16. https://doi.org/10.1016/j.istruc.2023.105432.\n",
    "\n",
    "Ye, X., Zhao, J., Qian, J., & Li, Y. (2024). SoftmaxU: Open softmax to be aware of unknowns. *Engineering Applications of Artificial Intelligence*, *133*, 1-11. https://doi.org/10.1016/j.engappai.2024.108594.\n",
    "\n",
    "Zhang, Q., Zhang, X., Yang, J., Sun, M., & Cao, T. (2025). Introducing Euclidean Distance Optimization into Softmax Loss under Neural Collapse. *Pattern Recognition*, 1-37. https://doi.org/10.1016/j.patcog.2025.111400."
   ]
  }
 ],
 "metadata": {
  "colab": {
   "collapsed_sections": [
    "g9d7WPQhZd4x"
   ],
   "provenance": []
  },
  "kernelspec": {
   "display_name": "Python 3 (ipykernel)",
   "language": "python",
   "name": "python3"
  },
  "language_info": {
   "codemirror_mode": {
    "name": "ipython",
    "version": 3
   },
   "file_extension": ".py",
   "mimetype": "text/x-python",
   "name": "python",
   "nbconvert_exporter": "python",
   "pygments_lexer": "ipython3",
   "version": "3.9.0"
  },
  "toc": {
   "base_numbering": 1,
   "nav_menu": {},
   "number_sections": true,
   "sideBar": true,
   "skip_h1_title": false,
   "title_cell": "Table of Contents",
   "title_sidebar": "Contents",
   "toc_cell": false,
   "toc_position": {},
   "toc_section_display": true,
   "toc_window_display": false
  },
  "varInspector": {
   "cols": {
    "lenName": 16,
    "lenType": 16,
    "lenVar": 40
   },
   "kernels_config": {
    "python": {
     "delete_cmd_postfix": "",
     "delete_cmd_prefix": "del ",
     "library": "var_list.py",
     "varRefreshCmd": "print(var_dic_list())"
    },
    "r": {
     "delete_cmd_postfix": ") ",
     "delete_cmd_prefix": "rm(",
     "library": "var_list.r",
     "varRefreshCmd": "cat(var_dic_list()) "
    }
   },
   "types_to_exclude": [
    "module",
    "function",
    "builtin_function_or_method",
    "instance",
    "_Feature"
   ],
   "window_display": false
  }
 },
 "nbformat": 4,
 "nbformat_minor": 4
}
