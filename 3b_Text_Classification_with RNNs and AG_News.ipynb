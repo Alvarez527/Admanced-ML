{
 "cells": [
  {
   "cell_type": "markdown",
   "id": "4a9e7c15-f58f-4e9d-a396-17929b2ea22c",
   "metadata": {},
   "source": [
    "\n",
    "#  Carlos Álvarez\n",
    "\n",
    "### **Git-hub: https://github.com/Alvarez527**\n",
    "### **Linkedin: www.linkedin.com/in/cralvarez-ai**"
   ]
  },
  {
   "cell_type": "markdown",
   "id": "A74lXf-FRpDj",
   "metadata": {
    "id": "A74lXf-FRpDj"
   },
   "source": [
    "## Advanced Machine Learning Methods"
   ]
  },
  {
   "cell_type": "markdown",
   "id": "2UW5e8cPRp_c",
   "metadata": {
    "id": "2UW5e8cPRp_c"
   },
   "source": [
    "\n",
    "#### Professor: Pepe Cantoral Ph.D.\n",
    "\n",
    "## **Transformers**\n",
    "#### Activity 4: Text Generator (Translator)\n",
    "\n",
    "Created On: Mar 5, 2025 | Last Updated: Mar 15, 2025"
   ]
  },
  {
   "cell_type": "markdown",
   "id": "D_vD_vfkSDK1",
   "metadata": {
    "id": "D_vD_vfkSDK1"
   },
   "source": [
    "## **Instructions**"
   ]
  },
  {
   "cell_type": "markdown",
   "id": "41b7905f-a070-4ffe-abfc-67fbcd2adaa9",
   "metadata": {
    "id": "41b7905f-a070-4ffe-abfc-67fbcd2adaa9"
   },
   "source": [
    "\n",
    "- Objective\n",
    "\n",
    "To understand the Transformer Architecture by Implementing a translator.\n",
    "\n",
    "- Instructions\n",
    "\n",
    "    This activity requires submission in teams. While teamwork is encouraged, each member is expected to contribute individually to the assignment. The final submission should feature the best arguments and solutions from each team member. Only one person per team needs to submit the completed work, but it is imperative that the names of all team members are listed in a Markdown cell at the very beginning of the notebook (either the first or second cell). Failure to include all team member names will result in the grade being awarded solely to the individual who submitted the assignment, with zero points given to other team members (no exceptions will be made to this rule).\n",
    "\n",
    "    Follow the provided code. The code already implements a transformer from scratch as explained in one of [week's 9 videos](https://youtu.be/XefFj4rLHgU)\n",
    "\n",
    "    Since the provided code already implements a simple translator, your job for this assignment is to understand it fully, and document it using pictures, figures, and markdown cells.  You should test your translator with at least 10 sentences. The dataset used for this task was obtained from [Tatoeba, a large dataset of sentences and translations](https://tatoeba.org/en/downloads).\n",
    "  \n",
    "- Evaluation Criteria\n",
    "\n",
    "    - Code Readability and Comments\n",
    "    - Traning a translator\n",
    "    - Translating at least 10 sentences.\n",
    "\n",
    "- Submission\n",
    "\n",
    "Submit this Jupyter Notebook in canvas with your complete solution, ensuring your code is well-commented and includes Markdown cells that explain your design choices, results, and any challenges you encountered.\n",
    "\n"
   ]
  },
  {
   "cell_type": "markdown",
   "id": "cWaibA0ESK5s",
   "metadata": {
    "id": "cWaibA0ESK5s"
   },
   "source": [
    "# **Solution**"
   ]
  },
  {
   "cell_type": "markdown",
   "id": "17f54c65",
   "metadata": {
    "heading_collapsed": true,
    "id": "17f54c65"
   },
   "source": [
    "### Script to convert csv to text file"
   ]
  },
  {
   "cell_type": "code",
   "execution_count": null,
   "id": "Q-oSJYblM0B-",
   "metadata": {
    "colab": {
     "base_uri": "https://localhost:8080/"
    },
    "id": "Q-oSJYblM0B-",
    "outputId": "a62c8a01-3937-4e06-d7ee-f0a45444bcc5"
   },
   "outputs": [
    {
     "name": "stdout",
     "output_type": "stream",
     "text": [
      "Mounted at /content/drive\n"
     ]
    }
   ],
   "source": [
    "from google.colab import drive\n",
    "drive.mount('/content/drive')"
   ]
  },
  {
   "cell_type": "code",
   "execution_count": null,
   "id": "8f02c0c2",
   "metadata": {
    "hidden": true,
    "id": "8f02c0c2"
   },
   "outputs": [],
   "source": [
    "#This script requires to convert the TSV file to CSV\n",
    "# easiest way is to open it in Calc or excel and save as csv\n",
    "PATH = '/content/drive/MyDrive/Colab Notebooks/MNA/TC5033 - Advance ML Methods/Week 9/Activity 4/eng-spa2024.csv'\n",
    "import pandas as pd\n",
    "df = pd.read_csv(PATH, sep=',', header=None)"
   ]
  },
  {
   "cell_type": "code",
   "execution_count": null,
   "id": "mimA76PZOoA2",
   "metadata": {
    "colab": {
     "base_uri": "https://localhost:8080/",
     "height": 206
    },
    "id": "mimA76PZOoA2",
    "outputId": "959b6517-1001-4e31-aab1-d61f657997ea"
   },
   "outputs": [
    {
     "data": {
      "application/vnd.google.colaboratory.intrinsic+json": {
       "type": "dataframe",
       "variable_name": "df"
      },
      "text/html": [
       "\n",
       "  <div id=\"df-67001968-17a3-4910-901d-0ca23e44b024\" class=\"colab-df-container\">\n",
       "    <div>\n",
       "<style scoped>\n",
       "    .dataframe tbody tr th:only-of-type {\n",
       "        vertical-align: middle;\n",
       "    }\n",
       "\n",
       "    .dataframe tbody tr th {\n",
       "        vertical-align: top;\n",
       "    }\n",
       "\n",
       "    .dataframe thead th {\n",
       "        text-align: right;\n",
       "    }\n",
       "</style>\n",
       "<table border=\"1\" class=\"dataframe\">\n",
       "  <thead>\n",
       "    <tr style=\"text-align: right;\">\n",
       "      <th></th>\n",
       "      <th>0</th>\n",
       "      <th>1</th>\n",
       "      <th>2</th>\n",
       "      <th>3</th>\n",
       "      <th>4</th>\n",
       "      <th>5</th>\n",
       "    </tr>\n",
       "  </thead>\n",
       "  <tbody>\n",
       "    <tr>\n",
       "      <th>0</th>\n",
       "      <td>1276</td>\n",
       "      <td>Let's try something.</td>\n",
       "      <td>2481</td>\n",
       "      <td>¡Intentemos algo!</td>\n",
       "      <td>NaN</td>\n",
       "      <td>NaN</td>\n",
       "    </tr>\n",
       "    <tr>\n",
       "      <th>1</th>\n",
       "      <td>1277</td>\n",
       "      <td>I have to go to sleep.</td>\n",
       "      <td>2482</td>\n",
       "      <td>Tengo que irme a dormir.</td>\n",
       "      <td>NaN</td>\n",
       "      <td>NaN</td>\n",
       "    </tr>\n",
       "    <tr>\n",
       "      <th>2</th>\n",
       "      <td>1280</td>\n",
       "      <td>Today is June 18th and it is Muiriel's birthday!</td>\n",
       "      <td>2485</td>\n",
       "      <td>¡Hoy es 18 de junio y es el cumpleaños de Muir...</td>\n",
       "      <td>NaN</td>\n",
       "      <td>NaN</td>\n",
       "    </tr>\n",
       "    <tr>\n",
       "      <th>3</th>\n",
       "      <td>1280</td>\n",
       "      <td>Today is June 18th and it is Muiriel's birthday!</td>\n",
       "      <td>1130137</td>\n",
       "      <td>¡Hoy es el 18 de junio y es el cumpleaños de M...</td>\n",
       "      <td>NaN</td>\n",
       "      <td>NaN</td>\n",
       "    </tr>\n",
       "    <tr>\n",
       "      <th>4</th>\n",
       "      <td>1282</td>\n",
       "      <td>Muiriel is 20 now.</td>\n",
       "      <td>2487</td>\n",
       "      <td>Ahora, Muiriel tiene 20 años.</td>\n",
       "      <td>NaN</td>\n",
       "      <td>NaN</td>\n",
       "    </tr>\n",
       "  </tbody>\n",
       "</table>\n",
       "</div>\n",
       "    <div class=\"colab-df-buttons\">\n",
       "\n",
       "  <div class=\"colab-df-container\">\n",
       "    <button class=\"colab-df-convert\" onclick=\"convertToInteractive('df-67001968-17a3-4910-901d-0ca23e44b024')\"\n",
       "            title=\"Convert this dataframe to an interactive table.\"\n",
       "            style=\"display:none;\">\n",
       "\n",
       "  <svg xmlns=\"http://www.w3.org/2000/svg\" height=\"24px\" viewBox=\"0 -960 960 960\">\n",
       "    <path d=\"M120-120v-720h720v720H120Zm60-500h600v-160H180v160Zm220 220h160v-160H400v160Zm0 220h160v-160H400v160ZM180-400h160v-160H180v160Zm440 0h160v-160H620v160ZM180-180h160v-160H180v160Zm440 0h160v-160H620v160Z\"/>\n",
       "  </svg>\n",
       "    </button>\n",
       "\n",
       "  <style>\n",
       "    .colab-df-container {\n",
       "      display:flex;\n",
       "      gap: 12px;\n",
       "    }\n",
       "\n",
       "    .colab-df-convert {\n",
       "      background-color: #E8F0FE;\n",
       "      border: none;\n",
       "      border-radius: 50%;\n",
       "      cursor: pointer;\n",
       "      display: none;\n",
       "      fill: #1967D2;\n",
       "      height: 32px;\n",
       "      padding: 0 0 0 0;\n",
       "      width: 32px;\n",
       "    }\n",
       "\n",
       "    .colab-df-convert:hover {\n",
       "      background-color: #E2EBFA;\n",
       "      box-shadow: 0px 1px 2px rgba(60, 64, 67, 0.3), 0px 1px 3px 1px rgba(60, 64, 67, 0.15);\n",
       "      fill: #174EA6;\n",
       "    }\n",
       "\n",
       "    .colab-df-buttons div {\n",
       "      margin-bottom: 4px;\n",
       "    }\n",
       "\n",
       "    [theme=dark] .colab-df-convert {\n",
       "      background-color: #3B4455;\n",
       "      fill: #D2E3FC;\n",
       "    }\n",
       "\n",
       "    [theme=dark] .colab-df-convert:hover {\n",
       "      background-color: #434B5C;\n",
       "      box-shadow: 0px 1px 3px 1px rgba(0, 0, 0, 0.15);\n",
       "      filter: drop-shadow(0px 1px 2px rgba(0, 0, 0, 0.3));\n",
       "      fill: #FFFFFF;\n",
       "    }\n",
       "  </style>\n",
       "\n",
       "    <script>\n",
       "      const buttonEl =\n",
       "        document.querySelector('#df-67001968-17a3-4910-901d-0ca23e44b024 button.colab-df-convert');\n",
       "      buttonEl.style.display =\n",
       "        google.colab.kernel.accessAllowed ? 'block' : 'none';\n",
       "\n",
       "      async function convertToInteractive(key) {\n",
       "        const element = document.querySelector('#df-67001968-17a3-4910-901d-0ca23e44b024');\n",
       "        const dataTable =\n",
       "          await google.colab.kernel.invokeFunction('convertToInteractive',\n",
       "                                                    [key], {});\n",
       "        if (!dataTable) return;\n",
       "\n",
       "        const docLinkHtml = 'Like what you see? Visit the ' +\n",
       "          '<a target=\"_blank\" href=https://colab.research.google.com/notebooks/data_table.ipynb>data table notebook</a>'\n",
       "          + ' to learn more about interactive tables.';\n",
       "        element.innerHTML = '';\n",
       "        dataTable['output_type'] = 'display_data';\n",
       "        await google.colab.output.renderOutput(dataTable, element);\n",
       "        const docLink = document.createElement('div');\n",
       "        docLink.innerHTML = docLinkHtml;\n",
       "        element.appendChild(docLink);\n",
       "      }\n",
       "    </script>\n",
       "  </div>\n",
       "\n",
       "\n",
       "<div id=\"df-b87ce759-2afa-46c6-8411-8bb8c1cd6cb6\">\n",
       "  <button class=\"colab-df-quickchart\" onclick=\"quickchart('df-b87ce759-2afa-46c6-8411-8bb8c1cd6cb6')\"\n",
       "            title=\"Suggest charts\"\n",
       "            style=\"display:none;\">\n",
       "\n",
       "<svg xmlns=\"http://www.w3.org/2000/svg\" height=\"24px\"viewBox=\"0 0 24 24\"\n",
       "     width=\"24px\">\n",
       "    <g>\n",
       "        <path d=\"M19 3H5c-1.1 0-2 .9-2 2v14c0 1.1.9 2 2 2h14c1.1 0 2-.9 2-2V5c0-1.1-.9-2-2-2zM9 17H7v-7h2v7zm4 0h-2V7h2v10zm4 0h-2v-4h2v4z\"/>\n",
       "    </g>\n",
       "</svg>\n",
       "  </button>\n",
       "\n",
       "<style>\n",
       "  .colab-df-quickchart {\n",
       "      --bg-color: #E8F0FE;\n",
       "      --fill-color: #1967D2;\n",
       "      --hover-bg-color: #E2EBFA;\n",
       "      --hover-fill-color: #174EA6;\n",
       "      --disabled-fill-color: #AAA;\n",
       "      --disabled-bg-color: #DDD;\n",
       "  }\n",
       "\n",
       "  [theme=dark] .colab-df-quickchart {\n",
       "      --bg-color: #3B4455;\n",
       "      --fill-color: #D2E3FC;\n",
       "      --hover-bg-color: #434B5C;\n",
       "      --hover-fill-color: #FFFFFF;\n",
       "      --disabled-bg-color: #3B4455;\n",
       "      --disabled-fill-color: #666;\n",
       "  }\n",
       "\n",
       "  .colab-df-quickchart {\n",
       "    background-color: var(--bg-color);\n",
       "    border: none;\n",
       "    border-radius: 50%;\n",
       "    cursor: pointer;\n",
       "    display: none;\n",
       "    fill: var(--fill-color);\n",
       "    height: 32px;\n",
       "    padding: 0;\n",
       "    width: 32px;\n",
       "  }\n",
       "\n",
       "  .colab-df-quickchart:hover {\n",
       "    background-color: var(--hover-bg-color);\n",
       "    box-shadow: 0 1px 2px rgba(60, 64, 67, 0.3), 0 1px 3px 1px rgba(60, 64, 67, 0.15);\n",
       "    fill: var(--button-hover-fill-color);\n",
       "  }\n",
       "\n",
       "  .colab-df-quickchart-complete:disabled,\n",
       "  .colab-df-quickchart-complete:disabled:hover {\n",
       "    background-color: var(--disabled-bg-color);\n",
       "    fill: var(--disabled-fill-color);\n",
       "    box-shadow: none;\n",
       "  }\n",
       "\n",
       "  .colab-df-spinner {\n",
       "    border: 2px solid var(--fill-color);\n",
       "    border-color: transparent;\n",
       "    border-bottom-color: var(--fill-color);\n",
       "    animation:\n",
       "      spin 1s steps(1) infinite;\n",
       "  }\n",
       "\n",
       "  @keyframes spin {\n",
       "    0% {\n",
       "      border-color: transparent;\n",
       "      border-bottom-color: var(--fill-color);\n",
       "      border-left-color: var(--fill-color);\n",
       "    }\n",
       "    20% {\n",
       "      border-color: transparent;\n",
       "      border-left-color: var(--fill-color);\n",
       "      border-top-color: var(--fill-color);\n",
       "    }\n",
       "    30% {\n",
       "      border-color: transparent;\n",
       "      border-left-color: var(--fill-color);\n",
       "      border-top-color: var(--fill-color);\n",
       "      border-right-color: var(--fill-color);\n",
       "    }\n",
       "    40% {\n",
       "      border-color: transparent;\n",
       "      border-right-color: var(--fill-color);\n",
       "      border-top-color: var(--fill-color);\n",
       "    }\n",
       "    60% {\n",
       "      border-color: transparent;\n",
       "      border-right-color: var(--fill-color);\n",
       "    }\n",
       "    80% {\n",
       "      border-color: transparent;\n",
       "      border-right-color: var(--fill-color);\n",
       "      border-bottom-color: var(--fill-color);\n",
       "    }\n",
       "    90% {\n",
       "      border-color: transparent;\n",
       "      border-bottom-color: var(--fill-color);\n",
       "    }\n",
       "  }\n",
       "</style>\n",
       "\n",
       "  <script>\n",
       "    async function quickchart(key) {\n",
       "      const quickchartButtonEl =\n",
       "        document.querySelector('#' + key + ' button');\n",
       "      quickchartButtonEl.disabled = true;  // To prevent multiple clicks.\n",
       "      quickchartButtonEl.classList.add('colab-df-spinner');\n",
       "      try {\n",
       "        const charts = await google.colab.kernel.invokeFunction(\n",
       "            'suggestCharts', [key], {});\n",
       "      } catch (error) {\n",
       "        console.error('Error during call to suggestCharts:', error);\n",
       "      }\n",
       "      quickchartButtonEl.classList.remove('colab-df-spinner');\n",
       "      quickchartButtonEl.classList.add('colab-df-quickchart-complete');\n",
       "    }\n",
       "    (() => {\n",
       "      let quickchartButtonEl =\n",
       "        document.querySelector('#df-b87ce759-2afa-46c6-8411-8bb8c1cd6cb6 button');\n",
       "      quickchartButtonEl.style.display =\n",
       "        google.colab.kernel.accessAllowed ? 'block' : 'none';\n",
       "    })();\n",
       "  </script>\n",
       "</div>\n",
       "\n",
       "    </div>\n",
       "  </div>\n"
      ],
      "text/plain": [
       "      0                                                 1        2  \\\n",
       "0  1276                              Let's try something.     2481   \n",
       "1  1277                            I have to go to sleep.     2482   \n",
       "2  1280  Today is June 18th and it is Muiriel's birthday!     2485   \n",
       "3  1280  Today is June 18th and it is Muiriel's birthday!  1130137   \n",
       "4  1282                                Muiriel is 20 now.     2487   \n",
       "\n",
       "                                                   3   4   5  \n",
       "0                                  ¡Intentemos algo! NaN NaN  \n",
       "1                           Tengo que irme a dormir. NaN NaN  \n",
       "2  ¡Hoy es 18 de junio y es el cumpleaños de Muir... NaN NaN  \n",
       "3  ¡Hoy es el 18 de junio y es el cumpleaños de M... NaN NaN  \n",
       "4                      Ahora, Muiriel tiene 20 años. NaN NaN  "
      ]
     },
     "execution_count": 3,
     "metadata": {},
     "output_type": "execute_result"
    }
   ],
   "source": [
    "df.head()"
   ]
  },
  {
   "cell_type": "code",
   "execution_count": null,
   "id": "787d9408",
   "metadata": {
    "colab": {
     "base_uri": "https://localhost:8080/"
    },
    "hidden": true,
    "id": "787d9408",
    "outputId": "b3a67779-356b-4367-aa67-8b86fec493c9"
   },
   "outputs": [
    {
     "name": "stderr",
     "output_type": "stream",
     "text": [
      "<ipython-input-4-39ed6e6fdc9d>:2: SettingWithCopyWarning: \n",
      "A value is trying to be set on a copy of a slice from a DataFrame.\n",
      "Try using .loc[row_indexer,col_indexer] = value instead\n",
      "\n",
      "See the caveats in the documentation: https://pandas.pydata.org/pandas-docs/stable/user_guide/indexing.html#returning-a-view-versus-a-copy\n",
      "  eng_spa_cols['length'] = eng_spa_cols.iloc[:, 0].str.len()\n"
     ]
    }
   ],
   "source": [
    "eng_spa_cols = df.iloc[:, [1, 3]]\n",
    "eng_spa_cols['length'] = eng_spa_cols.iloc[:, 0].str.len()\n",
    "eng_spa_cols = eng_spa_cols.sort_values(by='length')\n",
    "eng_spa_cols = eng_spa_cols.drop(columns=['length'])\n",
    "\n",
    "output_file_path = '/content/drive/MyDrive/Colab Notebooks/MNA/TC5033 - Advance ML Methods/Week 9/Activity 4/eng-spa4.txt'\n",
    "eng_spa_cols.to_csv(output_file_path, sep='\\t', index=False, header=False) # Separate english and spanihs words in each row with a tab"
   ]
  },
  {
   "cell_type": "code",
   "execution_count": null,
   "id": "O-aaqFZcOxEW",
   "metadata": {
    "colab": {
     "base_uri": "https://localhost:8080/",
     "height": 424
    },
    "id": "O-aaqFZcOxEW",
    "outputId": "1955ea59-3ac9-4ad2-bfe3-6d9900c20909"
   },
   "outputs": [
    {
     "data": {
      "application/vnd.google.colaboratory.intrinsic+json": {
       "type": "dataframe",
       "variable_name": "eng_spa_cols"
      },
      "text/html": [
       "\n",
       "  <div id=\"df-2e30dd9d-6f35-46ae-87f9-d7941cd9c412\" class=\"colab-df-container\">\n",
       "    <div>\n",
       "<style scoped>\n",
       "    .dataframe tbody tr th:only-of-type {\n",
       "        vertical-align: middle;\n",
       "    }\n",
       "\n",
       "    .dataframe tbody tr th {\n",
       "        vertical-align: top;\n",
       "    }\n",
       "\n",
       "    .dataframe thead th {\n",
       "        text-align: right;\n",
       "    }\n",
       "</style>\n",
       "<table border=\"1\" class=\"dataframe\">\n",
       "  <thead>\n",
       "    <tr style=\"text-align: right;\">\n",
       "      <th></th>\n",
       "      <th>1</th>\n",
       "      <th>3</th>\n",
       "    </tr>\n",
       "  </thead>\n",
       "  <tbody>\n",
       "    <tr>\n",
       "      <th>67760</th>\n",
       "      <td>Hi.</td>\n",
       "      <td>Hola.</td>\n",
       "    </tr>\n",
       "    <tr>\n",
       "      <th>152960</th>\n",
       "      <td>So?</td>\n",
       "      <td>¿Entonces?</td>\n",
       "    </tr>\n",
       "    <tr>\n",
       "      <th>227950</th>\n",
       "      <td>Go!</td>\n",
       "      <td>Váyase</td>\n",
       "    </tr>\n",
       "    <tr>\n",
       "      <th>227951</th>\n",
       "      <td>Go!</td>\n",
       "      <td>Vete</td>\n",
       "    </tr>\n",
       "    <tr>\n",
       "      <th>230967</th>\n",
       "      <td>Ok!</td>\n",
       "      <td>¡OK!</td>\n",
       "    </tr>\n",
       "    <tr>\n",
       "      <th>...</th>\n",
       "      <td>...</td>\n",
       "      <td>...</td>\n",
       "    </tr>\n",
       "    <tr>\n",
       "      <th>145657</th>\n",
       "      <td>As far as I understand despite my limited know...</td>\n",
       "      <td>Hasta donde comprendo a pesar de mi poco conoc...</td>\n",
       "    </tr>\n",
       "    <tr>\n",
       "      <th>161608</th>\n",
       "      <td>Three hours later, the King was loitering arou...</td>\n",
       "      <td>Tres horas después, el rey estaba merodeando p...</td>\n",
       "    </tr>\n",
       "    <tr>\n",
       "      <th>265348</th>\n",
       "      <td>In Japanese, conjugation is fundamental to pie...</td>\n",
       "      <td>En japonés, la conjugación es fundamental para...</td>\n",
       "    </tr>\n",
       "    <tr>\n",
       "      <th>73306</th>\n",
       "      <td>There is no such thing, at this stage of the w...</td>\n",
       "      <td>No existe tal cosa, en esta etapa de la histor...</td>\n",
       "    </tr>\n",
       "    <tr>\n",
       "      <th>250697</th>\n",
       "      <td>I know some things about reading when it comes...</td>\n",
       "      <td>Sé algunas cosas sobre la lectura cuando se tr...</td>\n",
       "    </tr>\n",
       "  </tbody>\n",
       "</table>\n",
       "<p>270783 rows × 2 columns</p>\n",
       "</div>\n",
       "    <div class=\"colab-df-buttons\">\n",
       "\n",
       "  <div class=\"colab-df-container\">\n",
       "    <button class=\"colab-df-convert\" onclick=\"convertToInteractive('df-2e30dd9d-6f35-46ae-87f9-d7941cd9c412')\"\n",
       "            title=\"Convert this dataframe to an interactive table.\"\n",
       "            style=\"display:none;\">\n",
       "\n",
       "  <svg xmlns=\"http://www.w3.org/2000/svg\" height=\"24px\" viewBox=\"0 -960 960 960\">\n",
       "    <path d=\"M120-120v-720h720v720H120Zm60-500h600v-160H180v160Zm220 220h160v-160H400v160Zm0 220h160v-160H400v160ZM180-400h160v-160H180v160Zm440 0h160v-160H620v160ZM180-180h160v-160H180v160Zm440 0h160v-160H620v160Z\"/>\n",
       "  </svg>\n",
       "    </button>\n",
       "\n",
       "  <style>\n",
       "    .colab-df-container {\n",
       "      display:flex;\n",
       "      gap: 12px;\n",
       "    }\n",
       "\n",
       "    .colab-df-convert {\n",
       "      background-color: #E8F0FE;\n",
       "      border: none;\n",
       "      border-radius: 50%;\n",
       "      cursor: pointer;\n",
       "      display: none;\n",
       "      fill: #1967D2;\n",
       "      height: 32px;\n",
       "      padding: 0 0 0 0;\n",
       "      width: 32px;\n",
       "    }\n",
       "\n",
       "    .colab-df-convert:hover {\n",
       "      background-color: #E2EBFA;\n",
       "      box-shadow: 0px 1px 2px rgba(60, 64, 67, 0.3), 0px 1px 3px 1px rgba(60, 64, 67, 0.15);\n",
       "      fill: #174EA6;\n",
       "    }\n",
       "\n",
       "    .colab-df-buttons div {\n",
       "      margin-bottom: 4px;\n",
       "    }\n",
       "\n",
       "    [theme=dark] .colab-df-convert {\n",
       "      background-color: #3B4455;\n",
       "      fill: #D2E3FC;\n",
       "    }\n",
       "\n",
       "    [theme=dark] .colab-df-convert:hover {\n",
       "      background-color: #434B5C;\n",
       "      box-shadow: 0px 1px 3px 1px rgba(0, 0, 0, 0.15);\n",
       "      filter: drop-shadow(0px 1px 2px rgba(0, 0, 0, 0.3));\n",
       "      fill: #FFFFFF;\n",
       "    }\n",
       "  </style>\n",
       "\n",
       "    <script>\n",
       "      const buttonEl =\n",
       "        document.querySelector('#df-2e30dd9d-6f35-46ae-87f9-d7941cd9c412 button.colab-df-convert');\n",
       "      buttonEl.style.display =\n",
       "        google.colab.kernel.accessAllowed ? 'block' : 'none';\n",
       "\n",
       "      async function convertToInteractive(key) {\n",
       "        const element = document.querySelector('#df-2e30dd9d-6f35-46ae-87f9-d7941cd9c412');\n",
       "        const dataTable =\n",
       "          await google.colab.kernel.invokeFunction('convertToInteractive',\n",
       "                                                    [key], {});\n",
       "        if (!dataTable) return;\n",
       "\n",
       "        const docLinkHtml = 'Like what you see? Visit the ' +\n",
       "          '<a target=\"_blank\" href=https://colab.research.google.com/notebooks/data_table.ipynb>data table notebook</a>'\n",
       "          + ' to learn more about interactive tables.';\n",
       "        element.innerHTML = '';\n",
       "        dataTable['output_type'] = 'display_data';\n",
       "        await google.colab.output.renderOutput(dataTable, element);\n",
       "        const docLink = document.createElement('div');\n",
       "        docLink.innerHTML = docLinkHtml;\n",
       "        element.appendChild(docLink);\n",
       "      }\n",
       "    </script>\n",
       "  </div>\n",
       "\n",
       "\n",
       "<div id=\"df-bd4a5d22-753d-4c8f-85af-a25ff97da6a4\">\n",
       "  <button class=\"colab-df-quickchart\" onclick=\"quickchart('df-bd4a5d22-753d-4c8f-85af-a25ff97da6a4')\"\n",
       "            title=\"Suggest charts\"\n",
       "            style=\"display:none;\">\n",
       "\n",
       "<svg xmlns=\"http://www.w3.org/2000/svg\" height=\"24px\"viewBox=\"0 0 24 24\"\n",
       "     width=\"24px\">\n",
       "    <g>\n",
       "        <path d=\"M19 3H5c-1.1 0-2 .9-2 2v14c0 1.1.9 2 2 2h14c1.1 0 2-.9 2-2V5c0-1.1-.9-2-2-2zM9 17H7v-7h2v7zm4 0h-2V7h2v10zm4 0h-2v-4h2v4z\"/>\n",
       "    </g>\n",
       "</svg>\n",
       "  </button>\n",
       "\n",
       "<style>\n",
       "  .colab-df-quickchart {\n",
       "      --bg-color: #E8F0FE;\n",
       "      --fill-color: #1967D2;\n",
       "      --hover-bg-color: #E2EBFA;\n",
       "      --hover-fill-color: #174EA6;\n",
       "      --disabled-fill-color: #AAA;\n",
       "      --disabled-bg-color: #DDD;\n",
       "  }\n",
       "\n",
       "  [theme=dark] .colab-df-quickchart {\n",
       "      --bg-color: #3B4455;\n",
       "      --fill-color: #D2E3FC;\n",
       "      --hover-bg-color: #434B5C;\n",
       "      --hover-fill-color: #FFFFFF;\n",
       "      --disabled-bg-color: #3B4455;\n",
       "      --disabled-fill-color: #666;\n",
       "  }\n",
       "\n",
       "  .colab-df-quickchart {\n",
       "    background-color: var(--bg-color);\n",
       "    border: none;\n",
       "    border-radius: 50%;\n",
       "    cursor: pointer;\n",
       "    display: none;\n",
       "    fill: var(--fill-color);\n",
       "    height: 32px;\n",
       "    padding: 0;\n",
       "    width: 32px;\n",
       "  }\n",
       "\n",
       "  .colab-df-quickchart:hover {\n",
       "    background-color: var(--hover-bg-color);\n",
       "    box-shadow: 0 1px 2px rgba(60, 64, 67, 0.3), 0 1px 3px 1px rgba(60, 64, 67, 0.15);\n",
       "    fill: var(--button-hover-fill-color);\n",
       "  }\n",
       "\n",
       "  .colab-df-quickchart-complete:disabled,\n",
       "  .colab-df-quickchart-complete:disabled:hover {\n",
       "    background-color: var(--disabled-bg-color);\n",
       "    fill: var(--disabled-fill-color);\n",
       "    box-shadow: none;\n",
       "  }\n",
       "\n",
       "  .colab-df-spinner {\n",
       "    border: 2px solid var(--fill-color);\n",
       "    border-color: transparent;\n",
       "    border-bottom-color: var(--fill-color);\n",
       "    animation:\n",
       "      spin 1s steps(1) infinite;\n",
       "  }\n",
       "\n",
       "  @keyframes spin {\n",
       "    0% {\n",
       "      border-color: transparent;\n",
       "      border-bottom-color: var(--fill-color);\n",
       "      border-left-color: var(--fill-color);\n",
       "    }\n",
       "    20% {\n",
       "      border-color: transparent;\n",
       "      border-left-color: var(--fill-color);\n",
       "      border-top-color: var(--fill-color);\n",
       "    }\n",
       "    30% {\n",
       "      border-color: transparent;\n",
       "      border-left-color: var(--fill-color);\n",
       "      border-top-color: var(--fill-color);\n",
       "      border-right-color: var(--fill-color);\n",
       "    }\n",
       "    40% {\n",
       "      border-color: transparent;\n",
       "      border-right-color: var(--fill-color);\n",
       "      border-top-color: var(--fill-color);\n",
       "    }\n",
       "    60% {\n",
       "      border-color: transparent;\n",
       "      border-right-color: var(--fill-color);\n",
       "    }\n",
       "    80% {\n",
       "      border-color: transparent;\n",
       "      border-right-color: var(--fill-color);\n",
       "      border-bottom-color: var(--fill-color);\n",
       "    }\n",
       "    90% {\n",
       "      border-color: transparent;\n",
       "      border-bottom-color: var(--fill-color);\n",
       "    }\n",
       "  }\n",
       "</style>\n",
       "\n",
       "  <script>\n",
       "    async function quickchart(key) {\n",
       "      const quickchartButtonEl =\n",
       "        document.querySelector('#' + key + ' button');\n",
       "      quickchartButtonEl.disabled = true;  // To prevent multiple clicks.\n",
       "      quickchartButtonEl.classList.add('colab-df-spinner');\n",
       "      try {\n",
       "        const charts = await google.colab.kernel.invokeFunction(\n",
       "            'suggestCharts', [key], {});\n",
       "      } catch (error) {\n",
       "        console.error('Error during call to suggestCharts:', error);\n",
       "      }\n",
       "      quickchartButtonEl.classList.remove('colab-df-spinner');\n",
       "      quickchartButtonEl.classList.add('colab-df-quickchart-complete');\n",
       "    }\n",
       "    (() => {\n",
       "      let quickchartButtonEl =\n",
       "        document.querySelector('#df-bd4a5d22-753d-4c8f-85af-a25ff97da6a4 button');\n",
       "      quickchartButtonEl.style.display =\n",
       "        google.colab.kernel.accessAllowed ? 'block' : 'none';\n",
       "    })();\n",
       "  </script>\n",
       "</div>\n",
       "\n",
       "  <div id=\"id_0b09a055-cd8e-4944-9f4e-242ebb4973cf\">\n",
       "    <style>\n",
       "      .colab-df-generate {\n",
       "        background-color: #E8F0FE;\n",
       "        border: none;\n",
       "        border-radius: 50%;\n",
       "        cursor: pointer;\n",
       "        display: none;\n",
       "        fill: #1967D2;\n",
       "        height: 32px;\n",
       "        padding: 0 0 0 0;\n",
       "        width: 32px;\n",
       "      }\n",
       "\n",
       "      .colab-df-generate:hover {\n",
       "        background-color: #E2EBFA;\n",
       "        box-shadow: 0px 1px 2px rgba(60, 64, 67, 0.3), 0px 1px 3px 1px rgba(60, 64, 67, 0.15);\n",
       "        fill: #174EA6;\n",
       "      }\n",
       "\n",
       "      [theme=dark] .colab-df-generate {\n",
       "        background-color: #3B4455;\n",
       "        fill: #D2E3FC;\n",
       "      }\n",
       "\n",
       "      [theme=dark] .colab-df-generate:hover {\n",
       "        background-color: #434B5C;\n",
       "        box-shadow: 0px 1px 3px 1px rgba(0, 0, 0, 0.15);\n",
       "        filter: drop-shadow(0px 1px 2px rgba(0, 0, 0, 0.3));\n",
       "        fill: #FFFFFF;\n",
       "      }\n",
       "    </style>\n",
       "    <button class=\"colab-df-generate\" onclick=\"generateWithVariable('eng_spa_cols')\"\n",
       "            title=\"Generate code using this dataframe.\"\n",
       "            style=\"display:none;\">\n",
       "\n",
       "  <svg xmlns=\"http://www.w3.org/2000/svg\" height=\"24px\"viewBox=\"0 0 24 24\"\n",
       "       width=\"24px\">\n",
       "    <path d=\"M7,19H8.4L18.45,9,17,7.55,7,17.6ZM5,21V16.75L18.45,3.32a2,2,0,0,1,2.83,0l1.4,1.43a1.91,1.91,0,0,1,.58,1.4,1.91,1.91,0,0,1-.58,1.4L9.25,21ZM18.45,9,17,7.55Zm-12,3A5.31,5.31,0,0,0,4.9,8.1,5.31,5.31,0,0,0,1,6.5,5.31,5.31,0,0,0,4.9,4.9,5.31,5.31,0,0,0,6.5,1,5.31,5.31,0,0,0,8.1,4.9,5.31,5.31,0,0,0,12,6.5,5.46,5.46,0,0,0,6.5,12Z\"/>\n",
       "  </svg>\n",
       "    </button>\n",
       "    <script>\n",
       "      (() => {\n",
       "      const buttonEl =\n",
       "        document.querySelector('#id_0b09a055-cd8e-4944-9f4e-242ebb4973cf button.colab-df-generate');\n",
       "      buttonEl.style.display =\n",
       "        google.colab.kernel.accessAllowed ? 'block' : 'none';\n",
       "\n",
       "      buttonEl.onclick = () => {\n",
       "        google.colab.notebook.generateWithVariable('eng_spa_cols');\n",
       "      }\n",
       "      })();\n",
       "    </script>\n",
       "  </div>\n",
       "\n",
       "    </div>\n",
       "  </div>\n"
      ],
      "text/plain": [
       "                                                        1  \\\n",
       "67760                                                 Hi.   \n",
       "152960                                                So?   \n",
       "227950                                                Go!   \n",
       "227951                                                Go!   \n",
       "230967                                                Ok!   \n",
       "...                                                   ...   \n",
       "145657  As far as I understand despite my limited know...   \n",
       "161608  Three hours later, the King was loitering arou...   \n",
       "265348  In Japanese, conjugation is fundamental to pie...   \n",
       "73306   There is no such thing, at this stage of the w...   \n",
       "250697  I know some things about reading when it comes...   \n",
       "\n",
       "                                                        3  \n",
       "67760                                               Hola.  \n",
       "152960                                         ¿Entonces?  \n",
       "227950                                             Váyase  \n",
       "227951                                               Vete  \n",
       "230967                                               ¡OK!  \n",
       "...                                                   ...  \n",
       "145657  Hasta donde comprendo a pesar de mi poco conoc...  \n",
       "161608  Tres horas después, el rey estaba merodeando p...  \n",
       "265348  En japonés, la conjugación es fundamental para...  \n",
       "73306   No existe tal cosa, en esta etapa de la histor...  \n",
       "250697  Sé algunas cosas sobre la lectura cuando se tr...  \n",
       "\n",
       "[270783 rows x 2 columns]"
      ]
     },
     "execution_count": 5,
     "metadata": {},
     "output_type": "execute_result"
    }
   ],
   "source": [
    "eng_spa_cols"
   ]
  },
  {
   "cell_type": "markdown",
   "id": "7d468e9a",
   "metadata": {
    "id": "7d468e9a"
   },
   "source": [
    "## Transformer - Attention is all you need"
   ]
  },
  {
   "cell_type": "code",
   "execution_count": null,
   "id": "d5dcf681",
   "metadata": {
    "colab": {
     "base_uri": "https://localhost:8080/"
    },
    "id": "d5dcf681",
    "outputId": "8ba89c0f-b95b-4acf-ea2c-47ade9b4d48f"
   },
   "outputs": [
    {
     "data": {
      "text/plain": [
       "<torch._C.Generator at 0x7b7a00a5e830>"
      ]
     },
     "execution_count": 6,
     "metadata": {},
     "output_type": "execute_result"
    }
   ],
   "source": [
    "import torch\n",
    "import torch.nn as nn\n",
    "import torch.nn.functional as F\n",
    "import torch.optim as optim\n",
    "from torch.utils.data import Dataset, DataLoader\n",
    "from collections import Counter\n",
    "import math\n",
    "import numpy as np\n",
    "import re\n",
    "\n",
    "torch.manual_seed(23) # To ensure our code execution is reproducible"
   ]
  },
  {
   "cell_type": "code",
   "execution_count": null,
   "id": "2c2cbd17",
   "metadata": {
    "colab": {
     "base_uri": "https://localhost:8080/"
    },
    "id": "2c2cbd17",
    "outputId": "50da7b5d-210d-4d6b-fa2c-4333f286e96e"
   },
   "outputs": [
    {
     "name": "stdout",
     "output_type": "stream",
     "text": [
      "cuda\n"
     ]
    }
   ],
   "source": [
    "device = torch.device('cuda' if torch.cuda.is_available() else 'cpu')\n",
    "print(device)"
   ]
  },
  {
   "cell_type": "code",
   "execution_count": null,
   "id": "9c6623a1",
   "metadata": {
    "id": "9c6623a1"
   },
   "outputs": [],
   "source": [
    "MAX_SEQ_LEN = 128 # To be used as the default maximum tokens allowed in a sentence"
   ]
  },
  {
   "cell_type": "markdown",
   "id": "TrtbgzqYumKd",
   "metadata": {
    "id": "TrtbgzqYumKd"
   },
   "source": [
    "### Transformer Model"
   ]
  },
  {
   "cell_type": "markdown",
   "id": "JTM9bDqot16c",
   "metadata": {
    "id": "JTM9bDqot16c"
   },
   "source": [
    "The transformer architecture serves as a foundation for popular language models like chatGPT. It allows learning long-range contextual relationships within sequences (Dhanani et al., 2025, p. 1). The Transformer models, originally designed for natural language processing tasks, has emerged as a breakthrough in various domains, particularly in computer vision, with significant advancements in image segmentation (Tian et al., 2022, p. 1).\n",
    "\n",
    "\n",
    "The main elements of a Transformer architecture are self-attention, encoder-decoder and FFNN(Feed Forward neural network). A regular Transformer consists of three parts: encoder, decoder and a final linear layer.The base model of Transformer use 8 attention layers or heads, 512 dimensions of model and 2048 dimensions of Feed Forward (Kumar, 2025, pp. 1438-1439).\n",
    "\n",
    "The layers considered in the architecture are:\n",
    "  - **Positional Embedding**: Generates deterministic positional encodings using sine and cosine functions at different frequencies. These encodings are added to the token embeddings, injecting positional information into the model. For each position 𝑖 and embedding dimension 2𝑘 or 2𝑘+1, the encoding is computed as:\n",
    "  $$\n",
    "  \\text{PE}(i, 2k) = \\sin\\left(\\frac{i}{10000^{\\frac{2k}{d_{model}}}}\\right)\n",
    "  $$\n",
    "  \n",
    "  $$\n",
    "  \\text{PE}(i, 2k+1) = \\cos\\left(\\frac{i}{10000^{\\frac{2k}{d_{model}}}}\\right)\n",
    "  $$\n",
    "\n",
    "  - **Masking**: Two masking strategies are used:\n",
    "    * **Padding Mask**: Prevents padded tokens (typically represented by 0) from affecting the attention mechanism by setting their mask values to zero.\n",
    "    * **Causal (Future) Mask**: Ensures autoregressive behavior in the decoder by disallowing attention to future tokens. This is done by creating a lower triangular matrix where the upper triangle is masked.\n",
    "\n",
    "  - **Multi-Head Attention**: Breaks down the attention mechanism into multiple parallel heads to capture diverse features:\n",
    "    * **Linear Projections**: The input embeddings are projected into queries (Q), ke (K), and values (V) via learned linear transformations.\n",
    "    * **Scaled Dot-Product Attention**: Attention scores are computed using (the factor 𝑑𝑘 scales the dot product to stabilize gradients):\n",
    "  $$\n",
    "  \\text{Attention}(Q, K, V) = \\text{softmax}\\left(\\frac{QK^T}{\\sqrt{d_k}}\\right) V\n",
    "  $$\n",
    "    * **Concatenation**: The outputs from each head are concatenated.\n",
    "    * **Final Linear Layer**: The concatenated tensor is linearly transformed back to the original embedding dimension.\n",
    "    * **Residual Connection & Layer Normalization**: Typically, each sub-layer output is added to its input (residual connection) and then normalized to promote stable training.\n",
    "\n",
    "  - Encoder Layer: Each encoder layer comprises:\n",
    "    * **Self-Attention**: Captures relationships among tokens in the input sequence.\n",
    "    * **Add & Norm**: A residual connection adds the attention output back to the input, followed by layer normalization to avoid gradient vanishing.\n",
    "    * **Position-wise Feed Forward Network**: A two-layer fully connected network is applied independently to each token. Dropout is applied before the residual addition to improve generalization.\n",
    "\n",
    "  - Decoder Layer: The decoder layer extends the encoder structure with an additional attention mechanism:\n",
    "    * **Masked Self-Attention**: Applies a causal mask to prevent future token information from being accessed during decoding.\n",
    "    * **Add & Norm**: Uses residual connections and layer normalization after the masked self-attention.\n",
    "    * **Encoder-Decoder Attention**: The decoder’s queries attend to the encoder outputs (used as keys and values), integrating source information.\n",
    "    * **Feed Forward Network**: Processes the combined output with a position-wise feed-forward network, again incorporating dropout and residual connections followed by normalization (Kumar, 2025, pp. 1440).\n",
    "\n",
    "\n"
   ]
  },
  {
   "cell_type": "markdown",
   "id": "SGr9LDFvudC5",
   "metadata": {
    "id": "SGr9LDFvudC5"
   },
   "source": [
    "![Screenshot 2025-03-09 at 6.19.12 p.m..png](data:image/png;base64,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)"
   ]
  },
  {
   "cell_type": "markdown",
   "id": "A557P5lUyrjq",
   "metadata": {
    "id": "A557P5lUyrjq"
   },
   "source": [
    "#### Multi-Head Attention"
   ]
  },
  {
   "cell_type": "markdown",
   "id": "EGnQixoBvlY7",
   "metadata": {
    "id": "EGnQixoBvlY7"
   },
   "source": [
    "![image.png](data:image/png;base64,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)"
   ]
  },
  {
   "cell_type": "markdown",
   "id": "xM4tmF6Fwluv",
   "metadata": {
    "id": "xM4tmF6Fwluv"
   },
   "source": [
    "Instead of performing a single attention function with dmodel-dimensional keys, values and queries,\n",
    "in the artcicle it was mentioned to linearly project the queries, keys and values htimes with different, learned\n",
    "linear projections to dk , dk and dv dimensions, respectively. On each of these projected versions of\n",
    "queries, keys and values to perform the attention function in parallel, yielding dv -dimensional\n",
    "output values. These are concatenated and once again projected, resulting in the final values.\n",
    "Multi-head attention allows the model to jointly attend to information from different representation\n",
    "subspaces at different positions. With a single attention head, averaging inhibits this.\n",
    "\n",
    "$$\n",
    "\\text{MultiHead}(Q,K,V) = \\text{Concat}(\\text{head}_1, ..., \\text{head}_h) W^O\n",
    "$$\n",
    "\n",
    "**where**  \n",
    "$$\n",
    "\\text{head}_i = \\text{Attention}(Q W^Q_i ,K W^K_i ,V W^V_i)\n",
    "$$\n",
    "\n",
    "\n",
    "\n",
    "**Where the projections are parameter matrices**  \n",
    "$$\n",
    "W^Q_i \\in \\mathbb{R}^{d_{model} \\times d_k}, \\quad\n",
    "W^K_i \\in \\mathbb{R}^{d_{model} \\times d_k}, \\quad\n",
    "W^V_i \\in \\mathbb{R}^{d_{model} \\times d_v}, \\quad\n",
    "W^O \\in \\mathbb{R}^{h d_v \\times d_{model}}.\n",
    "$$\n",
    "---\n",
    "\n",
    "In this work we employ \\( h = 8 \\) parallel attention layers, or heads.  \n",
    "For each of these we use \\( d_k = d_v = d_{model}/h = 64 \\).  \n",
    "Due to the reduced dimension of each head, the total computational cost is similar to that of single-head attention with full dimensionality.\n",
    "\n"
   ]
  },
  {
   "cell_type": "code",
   "execution_count": null,
   "id": "3103d45f",
   "metadata": {
    "code_folding": [
     30,
     94
    ],
    "id": "3103d45f"
   },
   "outputs": [],
   "source": [
    "class PositionalEmbedding(nn.Module):\n",
    "    \"\"\"\n",
    "    Positional Embedding layer that uses sinusoidal functions to add positioning information to the word embeddings of the encoder and decoder.\n",
    "    \"\"\"\n",
    "    def __init__(self, d_model, max_seq_len = MAX_SEQ_LEN):\n",
    "        \"\"\"\n",
    "        Initialize the PositionalEmbedding.\n",
    "\n",
    "        Parameters:\n",
    "            d_model (int): Size of the model embeddings\n",
    "            max_seq_len (int, optional): Maximum sequence length\n",
    "        \"\"\"\n",
    "        super().__init__()\n",
    "        self.pos_embed_matrix = torch.zeros(max_seq_len, d_model, device=device)\n",
    "        token_pos = torch.arange(0, max_seq_len, dtype = torch.float).unsqueeze(1)\n",
    "        div_term = torch.exp(torch.arange(0, d_model, 2).float()\n",
    "                             * (-math.log(10000.0)/d_model)) # We create this value to be used in a more efficient way\n",
    "        self.pos_embed_matrix[:, 0::2] = torch.sin(token_pos * div_term)\n",
    "        self.pos_embed_matrix[:, 1::2] = torch.cos(token_pos * div_term)\n",
    "        self.pos_embed_matrix = self.pos_embed_matrix.unsqueeze(0).transpose(0,1)\n",
    "\n",
    "    def forward(self, x):\n",
    "        \"\"\"\n",
    "        Add positional encoding to the input tensor.\n",
    "\n",
    "        Parameters:\n",
    "            x (torch.Tensor): Input tensor of shape (seq_len, batch_size, d_model) or a compatible shape\n",
    "        \"\"\"\n",
    "        return x + self.pos_embed_matrix[:x.size(0), :]\n",
    "\n",
    "class MultiHeadAttention(nn.Module):\n",
    "    \"\"\"\n",
    "    This module implements the multi-head attention mechanism by projecting queries, keys,\n",
    "    and values into multiple subspaces, computing attention in parallel, and then concatenating the results.\n",
    "    \"\"\"\n",
    "    def __init__(self, d_model = 512, num_heads = 8):\n",
    "        \"\"\"\n",
    "        Initialize the multi-head attention module.\n",
    "\n",
    "        Parameters:\n",
    "            d_model (int, optional): Dimensionality of the model\n",
    "            num_heads (int, optional): Number of attention heads\n",
    "        \"\"\"\n",
    "        super().__init__()\n",
    "        assert d_model % num_heads == 0, 'Embedding size not compatible with num heads'\n",
    "\n",
    "        self.d_v = d_model // num_heads\n",
    "        self.d_k = self.d_v\n",
    "        self.num_heads = num_heads\n",
    "\n",
    "        self.W_q = nn.Linear(d_model, d_model)\n",
    "        self.W_k = nn.Linear(d_model, d_model)\n",
    "        self.W_v = nn.Linear(d_model, d_model)\n",
    "        self.W_o = nn.Linear(d_model, d_model)\n",
    "\n",
    "    def forward(self, Q, K, V, mask = None):\n",
    "        \"\"\"\n",
    "        Perform a forward pass through the multi-head attention module.\n",
    "\n",
    "        Parameters:\n",
    "            Q (torch.Tensor): Query tensor of shape (batch_size, seq_len, d_model)\n",
    "            K (torch.Tensor): Key tensor of shape (batch_size, seq_len, d_model)\n",
    "            V (torch.Tensor): Value tensor of shape (batch_size, seq_len, d_model)\n",
    "            mask (torch.Tensor, optional): Optional mask tensor to prevent attention to certain (future) positions\n",
    "        \"\"\"\n",
    "        batch_size = Q.size(0)\n",
    "        '''\n",
    "        Q, K, V -> [batch_size, seq_len, num_heads*d_k]\n",
    "        after transpose Q, K, V -> [batch_size, num_heads, seq_len, d_k]\n",
    "        '''\n",
    "        Q = self.W_q(Q).view(batch_size, -1, self.num_heads, self.d_k).transpose(1, 2 )\n",
    "        K = self.W_k(K).view(batch_size, -1, self.num_heads, self.d_k).transpose(1, 2 )\n",
    "        V = self.W_v(V).view(batch_size, -1, self.num_heads, self.d_k).transpose(1, 2 )\n",
    "\n",
    "        weighted_values, attention = self.scale_dot_product(Q, K, V, mask)\n",
    "        weighted_values = weighted_values.transpose(1, 2).contiguous().view(batch_size, -1, self.num_heads*self.d_k)\n",
    "        weighted_values = self.W_o(weighted_values)\n",
    "\n",
    "        return weighted_values, attention\n",
    "\n",
    "\n",
    "    def scale_dot_product(self, Q, K, V, mask = None):\n",
    "        \"\"\"\n",
    "        Compute the scaled dot-product attention.\n",
    "\n",
    "        Parameters:\n",
    "            Q (torch.Tensor): Query tensor of shape (batch_size, num_heads, seq_len_q, d_k)\n",
    "            K (torch.Tensor): Key tensor of shape (batch_size, num_heads, seq_len_k, d_k)\n",
    "            V (torch.Tensor): Value tensor of shape (batch_size, num_heads, seq_len_v, d_k)\n",
    "            mask (torch.Tensor, optional): Mask tensor to apply before softmax\n",
    "        \"\"\"\n",
    "        scores = torch.matmul(Q, K.transpose(-2, -1)) / math.sqrt(self.d_k)\n",
    "        if mask is not None:\n",
    "            scores = scores.masked_fill(mask == 0, -1e9)\n",
    "        attention = F.softmax(scores, dim = -1)\n",
    "        weighted_values = torch.matmul(attention, V)\n",
    "\n",
    "        return weighted_values, attention\n",
    "\n",
    "\n",
    "class PositionFeedForward(nn.Module):\n",
    "    \"\"\"\n",
    "    Position-wise feed-forward network.\n",
    "    This module applies two linear transformations with a ReLU activation in between, applied independently to each position.\n",
    "    \"\"\"\n",
    "    def __init__(self, d_model, d_ff):\n",
    "        \"\"\"\n",
    "        Initialize the feed-forward network.\n",
    "\n",
    "        Parameters:\n",
    "            d_model (int): Dimensionality of the input and output\n",
    "            d_ff (int): Dimensionality of the hidden layer\n",
    "        \"\"\"\n",
    "        super().__init__()\n",
    "        self.linear1 = nn.Linear(d_model, d_ff)\n",
    "        self.linear2 = nn.Linear(d_ff, d_model)\n",
    "\n",
    "    def forward(self, x):\n",
    "        \"\"\"\n",
    "        Apply the feed-forward network to the input tensor.\n",
    "\n",
    "        Parameters:\n",
    "            x (torch.Tensor): Input tensor of shape (batch_size, seq_len, d_model)\n",
    "        \"\"\"\n",
    "        return self.linear2(F.relu(self.linear1(x)))\n",
    "\n",
    "class EncoderSubLayer(nn.Module):\n",
    "    \"\"\"\n",
    "    This module encapsulates a single encoder sub-layer which includes a self-attention\n",
    "    mechanism followed by a feed-forward network. It employs residual connections and layer normalization.\n",
    "    \"\"\"\n",
    "    def __init__(self, d_model, num_heads, d_ff, dropout = 0.1):\n",
    "        \"\"\"\n",
    "        Initialize the encoder sub-layer.\n",
    "\n",
    "        Parameters:\n",
    "            d_model (int): Dimensionality of the model\n",
    "            num_heads (int): Number of attention heads\n",
    "            d_ff (int): Dimensionality of the feed-forward network\n",
    "            dropout (float, optional): Dropout probability\n",
    "        \"\"\"\n",
    "        super().__init__()\n",
    "        self.self_attn = MultiHeadAttention(d_model, num_heads)\n",
    "        self.ffn = PositionFeedForward(d_model, d_ff)\n",
    "        self.norm1 = nn.LayerNorm(d_model)\n",
    "        self.norm2 = nn.LayerNorm(d_model)\n",
    "        self.droupout1 = nn.Dropout(dropout)\n",
    "        self.droupout2 = nn.Dropout(dropout)\n",
    "\n",
    "    def forward(self, x, mask = None):\n",
    "        \"\"\"\n",
    "        Perform a forward pass through the encoder sub-layer.\n",
    "\n",
    "        Parameters:\n",
    "            x (torch.Tensor): Input tensor of shape (batch_size, seq_len, d_model)\n",
    "            mask (torch.Tensor, optional): Attention mask for the self-attention mechanism\n",
    "        \"\"\"\n",
    "        attention_score, _ = self.self_attn(x, x, x, mask) # For the encoder, we use x for the 3 matrixes that generates Queries, keys and values\n",
    "        x = x + self.droupout1(attention_score)\n",
    "        x = self.norm1(x)\n",
    "        x = x + self.droupout2(self.ffn(x))\n",
    "        return self.norm2(x)\n",
    "\n",
    "class Encoder(nn.Module):\n",
    "    \"\"\"\n",
    "    This module stacks multiple encoder sub-layers and applies a final layer normalization\n",
    "    to process the input sequence using self-attention and feed-forward networks.\n",
    "    \"\"\"\n",
    "    def __init__(self, d_model, num_heads, d_ff, num_layers, dropout=0.1):\n",
    "        \"\"\"\n",
    "        Initialize the Encoder module.\n",
    "\n",
    "        Parameters:\n",
    "            d_model (int): Size of the model embeddings\n",
    "            num_heads (int): Number of attention heads\n",
    "            d_ff (int): Size of the feed-forward network\n",
    "            num_layers (int): Number of encoder sub-layers\n",
    "            dropout (float, optional): Dropout probability\n",
    "        \"\"\"\n",
    "        super().__init__()\n",
    "        self.layers = nn.ModuleList([EncoderSubLayer(d_model, num_heads, d_ff, dropout) for _ in range(num_layers)])\n",
    "        self.norm = nn.LayerNorm(d_model)\n",
    "    def forward(self, x, mask=None):\n",
    "        \"\"\"\n",
    "        Forward pass of the Encoder module.\n",
    "\n",
    "        Parameters:\n",
    "            x (torch.Tensor): Input tensor of shape (batch_size, seq_len, d_model)\n",
    "            mask (torch.Tensor, optional): Mask tensor to be applied in each encoder sub-layer\n",
    "        \"\"\"\n",
    "        for layer in self.layers:\n",
    "            x = layer(x, mask)\n",
    "        return self.norm(x)\n",
    "\n",
    "class DecoderSubLayer(nn.Module):\n",
    "    \"\"\"\n",
    "    This module comprises one layer of the decoder and includes self-attention, cross-attention with encoder outputs,\n",
    "    and a feed-forward network. Residual connections and layer normalization are applied after each sub-layer.\n",
    "    \"\"\"\n",
    "\n",
    "    def __init__(self, d_model, num_heads, d_ff, dropout=0.1):\n",
    "        \"\"\"\n",
    "        Initialize the decoder sub-layer.\n",
    "\n",
    "        Parameters:\n",
    "            d_model (int): Dimensionality of the model\n",
    "            num_heads (int): Number of attention heads\n",
    "            d_ff (int): Dimensionality of the feed-forward network\n",
    "            dropout (float, optional): Dropout probability\n",
    "        \"\"\"\n",
    "        super().__init__()\n",
    "        self.self_attn = MultiHeadAttention(d_model, num_heads)\n",
    "        self.cross_attn = MultiHeadAttention(d_model, num_heads)\n",
    "        self.feed_forward = PositionFeedForward(d_model, d_ff)\n",
    "        self.norm1 = nn.LayerNorm(d_model)\n",
    "        self.norm2 = nn.LayerNorm(d_model)\n",
    "        self.norm3 = nn.LayerNorm(d_model)\n",
    "        self.dropout1 = nn.Dropout(dropout)\n",
    "        self.dropout2 = nn.Dropout(dropout)\n",
    "        self.dropout3 = nn.Dropout(dropout)\n",
    "\n",
    "    def forward(self, x, encoder_output, target_mask=None, encoder_mask=None):\n",
    "        \"\"\"\n",
    "        Perform a forward pass through the decoder sub-layer.\n",
    "\n",
    "        Parameters:\n",
    "            x (torch.Tensor): Input tensor (target embeddings) of shape (batch_size, target_seq_len, d_model)\n",
    "            encoder_output (torch.Tensor): Encoder output tensor of shape (batch_size, source_seq_len, d_model)\n",
    "            target_mask (torch.Tensor, optional): Mask tensor for the target sequence\n",
    "            encoder_mask (torch.Tensor, optional): Mask tensor for the encoder output\n",
    "        \"\"\"\n",
    "        attention_score, _ = self.self_attn(x, x, x, target_mask)\n",
    "        x = x + self.dropout1(attention_score)\n",
    "        x = self.norm1(x)\n",
    "\n",
    "        encoder_attn, _ = self.cross_attn(x, encoder_output, encoder_output, encoder_mask)\n",
    "        x = x + self.dropout2(encoder_attn)\n",
    "        x = self.norm2(x)\n",
    "\n",
    "        ff_output = self.feed_forward(x)\n",
    "        x = x + self.dropout3(ff_output)\n",
    "        return self.norm3(x)\n",
    "\n",
    "class Decoder(nn.Module):\n",
    "    \"\"\"\n",
    "    This module stacks multiple decoder sub-layers and applies a final layer normalization.\n",
    "    It processes the target sequence using self-attention, cross-attention with encoder outputs,\n",
    "    and a feed-forward network.\n",
    "    \"\"\"\n",
    "    def __init__(self, d_model, num_heads, d_ff, num_layers, dropout=0.1):\n",
    "        \"\"\"\n",
    "        Initialize the Decoder module.\n",
    "\n",
    "        Parameters:\n",
    "            d_model (int): Size of the model embeddings\n",
    "            num_heads (int): Number of attention heads\n",
    "            d_ff (int): Size of the feed-forward network\n",
    "            num_layers (int): Number of decoder sub-layers\n",
    "            dropout (float, optional): Dropout probability\n",
    "        \"\"\"\n",
    "        super().__init__()\n",
    "        self.layers = nn.ModuleList([DecoderSubLayer(d_model, num_heads, d_ff, dropout) for _ in range(num_layers)])\n",
    "        self.norm = nn.LayerNorm(d_model)\n",
    "\n",
    "    def forward(self, x, encoder_output, target_mask, encoder_mask):\n",
    "        \"\"\"\n",
    "        Perform a forward pass through the Decoder module.\n",
    "\n",
    "        Parameters:\n",
    "            x (torch.Tensor): Input tensor (target embeddings) of shape (batch_size, target_seq_len, d_model)\n",
    "            encoder_output (torch.Tensor): Encoder output tensor of shape (batch_size, source_seq_len, d_model)\n",
    "            target_mask (torch.Tensor): Mask tensor for the target sequence\n",
    "            encoder_mask (torch.Tensor): Mask tensor for the encoder output\n",
    "        \"\"\"\n",
    "        for layer in self.layers:\n",
    "            x = layer(x, encoder_output, target_mask, encoder_mask)\n",
    "        return self.norm(x)"
   ]
  },
  {
   "cell_type": "code",
   "execution_count": null,
   "id": "61070162",
   "metadata": {
    "code_folding": [],
    "id": "61070162"
   },
   "outputs": [],
   "source": [
    "class Transformer(nn.Module):\n",
    "    \"\"\"\n",
    "    This model consists of an encoder and a decoder with corresponding embedding layers\n",
    "    and positional encodings. It leverages self-attention mechanisms and feed-forward\n",
    "    networks in both the encoder and the decoder. The decoder additionally uses a causal\n",
    "    mask to ensure autoregressive behavior during training and inference.\n",
    "\n",
    "    Attributes:\n",
    "        encoder_embedding (nn.Embedding): Embedding layer for the source sequence\n",
    "        decoder_embedding (nn.Embedding): Embedding layer for the target sequence\n",
    "        pos_embedding (PositionalEmbedding): Positional embedding layer to inject token position information\n",
    "        encoder (Encoder): Encoder module composed of multiple encoder layers\n",
    "        decoder (Decoder): Decoder module composed of multiple decoder layers\n",
    "        output_layer (nn.Linear): Linear layer used after the decoder (before softmax, which is used after training the model)\n",
    "    \"\"\"\n",
    "    def __init__(self, d_model, num_heads, d_ff, num_layers,\n",
    "                 input_vocab_size, target_vocab_size,\n",
    "                 max_len=MAX_SEQ_LEN, dropout=0.1):\n",
    "        \"\"\"\n",
    "        Initialize the Transformer model.\n",
    "\n",
    "        Parameters:\n",
    "            d_model (int): Size (Dimensionality) of the model embeddings\n",
    "            num_heads (int): Number of attention heads that are going to run in parallel\n",
    "            d_ff (int): Size (Dimensionality) of the feed-forward network\n",
    "            num_layers (int): Number of encoder and decoder layers\n",
    "            input_vocab_size (int): Size of the input vocabulary. For our example below, this is the size of the vocabulary in English\n",
    "            target_vocab_size (int): Size of the target vocabulary. For our example below, this is the size of the vocabulary in Spanish\n",
    "            max_len (int, optional): Maximum sequence length for positional encoding. This is the maximum tokens in a sentence\n",
    "            dropout (float, optional): Dropout probability. Used before normalization\n",
    "        \"\"\"\n",
    "        super().__init__()\n",
    "        self.encoder_embedding = nn.Embedding(input_vocab_size, d_model)\n",
    "        self.decoder_embedding = nn.Embedding(target_vocab_size, d_model)\n",
    "        self.pos_embedding = PositionalEmbedding(d_model, max_len)\n",
    "        self.encoder = Encoder(d_model, num_heads, d_ff, num_layers, dropout)\n",
    "        self.decoder = Decoder(d_model, num_heads, d_ff, num_layers, dropout)\n",
    "        self.output_layer = nn.Linear(d_model, target_vocab_size)\n",
    "\n",
    "    def forward(self, source, target):\n",
    "        \"\"\"\n",
    "        Execute a forward pass through the Transformer model.\n",
    "\n",
    "        This method applies the embedding and positional encoding to both the source\n",
    "        and target sequences, generates appropriate masks, and then processes the inputs\n",
    "        through the encoder and decoder. The final output is projected to the target vocabulary.\n",
    "\n",
    "        Parameters:\n",
    "            source (torch.Tensor): Tensor of shape (batch_size, source_seq_len) containing source token indices. For our example, this is the source language\n",
    "            target (torch.Tensor): Tensor of shape (batch_size, target_seq_len) containing target token indices. For our example, this is the target language\n",
    "        \"\"\"\n",
    "        # Encoder mask\n",
    "        source_mask, target_mask = self.mask(source, target)\n",
    "        # Embedding and positional Encoding\n",
    "        source = self.encoder_embedding(source) * math.sqrt(self.encoder_embedding.embedding_dim) # Following the paper, they multiply the embeddings by the square root of d_model\n",
    "        source = self.pos_embedding(source)\n",
    "        # Encoder\n",
    "        encoder_output = self.encoder(source, source_mask)\n",
    "\n",
    "        # Decoder embedding and postional encoding\n",
    "        target = self.decoder_embedding(target) * math.sqrt(self.decoder_embedding.embedding_dim)  # Following the paper, they multiply the embeddings by the square root of d_model\n",
    "        target = self.pos_embedding(target)\n",
    "        # Decoder\n",
    "        output = self.decoder(target, encoder_output, target_mask, source_mask)\n",
    "\n",
    "        return self.output_layer(output)\n",
    "\n",
    "\n",
    "\n",
    "    def mask(self, source, target):\n",
    "        \"\"\"\n",
    "        Generate masks for the source and target sequences.\n",
    "\n",
    "        The source mask prevents the encoder from attending to future tokens or to padding tokens.\n",
    "        The target mask prevents the decoder from attending to future tokens or to padding tokens.\n",
    "\n",
    "        We say that 0 represents padding tokens and other values are for tokens that represent words (or valid tokens)\n",
    "        or special tokens (eg. start or end of sequence).\n",
    "\n",
    "        Parameters:\n",
    "            source (torch.Tensor): Tensor of shape (batch_size, source_seq_len) containing source token indices\n",
    "            target (torch.Tensor): Tensor of shape (batch_size, target_seq_len) containing target token indices\n",
    "        \"\"\"\n",
    "        source_mask = (source != 0).unsqueeze(1).unsqueeze(2)\n",
    "        target_mask = (target != 0).unsqueeze(1).unsqueeze(2)\n",
    "        size = target.size(1)\n",
    "        no_mask = torch.tril(torch.ones((1, size, size), device=device)).bool() # Using a triangular matrix with 0s (zeros) in the upper triangle and 1s in the lower one.\n",
    "        target_mask = target_mask & no_mask\n",
    "        return source_mask, target_mask\n"
   ]
  },
  {
   "cell_type": "markdown",
   "id": "6da6b2d4",
   "metadata": {
    "heading_collapsed": true,
    "id": "6da6b2d4"
   },
   "source": [
    "## Simple test"
   ]
  },
  {
   "cell_type": "code",
   "execution_count": null,
   "id": "d40581d6",
   "metadata": {
    "hidden": true,
    "id": "d40581d6"
   },
   "outputs": [],
   "source": [
    "# Assuming sentences of 10 words (tokens) for the source and target\n",
    "seq_len_source = 10\n",
    "seq_len_target = 10\n",
    "\n",
    "batch_size = 2\n",
    "input_vocab_size = 50\n",
    "target_vocab_size = 50\n",
    "\n",
    "# Next, we simulate \"sentences\" using random numbers from 1 to 50, each with 10 values (\"words\")\n",
    "source = torch.randint(1, input_vocab_size, (batch_size, seq_len_source))\n",
    "target = torch.randint(1, target_vocab_size, (batch_size, seq_len_target))"
   ]
  },
  {
   "cell_type": "code",
   "execution_count": null,
   "id": "fc7cf689",
   "metadata": {
    "hidden": true,
    "id": "fc7cf689"
   },
   "outputs": [],
   "source": [
    "# Let's use the same values from the paper Attention is all you need\n",
    "d_model = 512\n",
    "num_heads = 8\n",
    "d_ff = 2048\n",
    "num_layers = 6\n",
    "\n",
    "# Instanciating the model\n",
    "model = Transformer(d_model, num_heads, d_ff, num_layers,\n",
    "                  input_vocab_size, target_vocab_size,\n",
    "                  max_len=MAX_SEQ_LEN, dropout=0.1)\n",
    "\n",
    "# Move everything to the GPU\n",
    "model = model.to(device)\n",
    "source = source.to(device)\n",
    "target = target.to(device)"
   ]
  },
  {
   "cell_type": "code",
   "execution_count": null,
   "id": "4618560e",
   "metadata": {
    "hidden": true,
    "id": "4618560e"
   },
   "outputs": [],
   "source": [
    "# Run the model\n",
    "output = model(source, target)"
   ]
  },
  {
   "cell_type": "code",
   "execution_count": null,
   "id": "ab0bc69d",
   "metadata": {
    "colab": {
     "base_uri": "https://localhost:8080/"
    },
    "hidden": true,
    "id": "ab0bc69d",
    "outputId": "1280b57c-5f04-4910-8f4e-789824e70c37"
   },
   "outputs": [
    {
     "name": "stdout",
     "output_type": "stream",
     "text": [
      "ouput.shape torch.Size([2, 10, 50])\n"
     ]
    }
   ],
   "source": [
    "# Expected output shape -> [batch, seq_len_target, target_vocab_size] i.e. [2, 10, 50]\n",
    "print(f'ouput.shape {output.shape}')"
   ]
  },
  {
   "cell_type": "markdown",
   "id": "0f4b2910",
   "metadata": {
    "id": "0f4b2910"
   },
   "source": [
    "## Translator Eng-Spa"
   ]
  },
  {
   "cell_type": "code",
   "execution_count": null,
   "id": "869a7244",
   "metadata": {
    "id": "869a7244"
   },
   "outputs": [],
   "source": [
    "PATH = '/content/drive/MyDrive/Colab Notebooks/MNA/TC5033 - Advance ML Methods/Week 9/Activity 4/eng-spa4.txt'"
   ]
  },
  {
   "cell_type": "code",
   "execution_count": null,
   "id": "d0af1eba",
   "metadata": {
    "id": "d0af1eba"
   },
   "outputs": [],
   "source": [
    "with open(PATH, 'r', encoding='utf-8') as f:\n",
    "    lines = f.readlines()\n",
    "eng_spa_pairs = [line.strip().split('\\t') for line in lines if '\\t' in line] # Read the pairs in each line, split it using tab"
   ]
  },
  {
   "cell_type": "code",
   "execution_count": null,
   "id": "c930226f",
   "metadata": {
    "colab": {
     "base_uri": "https://localhost:8080/"
    },
    "id": "c930226f",
    "outputId": "c49c02c1-7932-4d35-ff73-07df85d6b710"
   },
   "outputs": [
    {
     "data": {
      "text/plain": [
       "[['Hi.', 'Hola.'],\n",
       " ['So?', '¿Entonces?'],\n",
       " ['Go!', 'Váyase'],\n",
       " ['Go!', 'Vete'],\n",
       " ['Ok!', '¡OK!'],\n",
       " ['Ah!', '¡Anda!'],\n",
       " ['So?', '¿Y qué?'],\n",
       " ['Ow!', '¡Ay!'],\n",
       " ['No!', '¡No!'],\n",
       " ['No.', 'No.']]"
      ]
     },
     "execution_count": 17,
     "metadata": {},
     "output_type": "execute_result"
    }
   ],
   "source": [
    "eng_spa_pairs[:10]"
   ]
  },
  {
   "cell_type": "code",
   "execution_count": null,
   "id": "095f4037",
   "metadata": {
    "id": "095f4037"
   },
   "outputs": [],
   "source": [
    "eng_sentences = [pair[0] for pair in eng_spa_pairs]\n",
    "spa_sentences = [pair[1] for pair in eng_spa_pairs]"
   ]
  },
  {
   "cell_type": "code",
   "execution_count": null,
   "id": "0d9e1c95",
   "metadata": {
    "colab": {
     "base_uri": "https://localhost:8080/"
    },
    "id": "0d9e1c95",
    "outputId": "b9cbf1a2-a7c0-4b79-9808-c7b5dfe5b5e8"
   },
   "outputs": [
    {
     "name": "stdout",
     "output_type": "stream",
     "text": [
      "['Hi.', 'So?', 'Go!', 'Go!', 'Ok!', 'Ah!', 'So?', 'Ow!', 'No!', 'No.']\n",
      "['Hola.', '¿Entonces?', 'Váyase', 'Vete', '¡OK!', '¡Anda!', '¿Y qué?', '¡Ay!', '¡No!', 'No.']\n"
     ]
    }
   ],
   "source": [
    "print(eng_sentences[:10])\n",
    "print(spa_sentences[:10])"
   ]
  },
  {
   "cell_type": "markdown",
   "id": "3VEHpFqeQ79n",
   "metadata": {
    "id": "3VEHpFqeQ79n"
   },
   "source": [
    "### Preprocessing sentences"
   ]
  },
  {
   "cell_type": "code",
   "execution_count": null,
   "id": "60d11478",
   "metadata": {
    "id": "60d11478"
   },
   "outputs": [],
   "source": [
    "def preprocess_sentence(sentence):\n",
    "    \"\"\"\n",
    "    Preprocess each sentence so:\n",
    "    (1) It replaces multiple spaces with just one space\n",
    "    (2) It removes accent mark from vocals\n",
    "    (3) It replaces all characters different than letters from a to z with one space\n",
    "    (4) It removes spaces at the beginning and the end of the senteces\n",
    "    (5) It adds <sos> (start of sequence) at the beggining of the sentences and <eos> (end of sequence) at the end\n",
    "\n",
    "    Parameters:\n",
    "        sentence (string): Sentence on a certain language (source or target)\n",
    "    \"\"\"\n",
    "    sentence = sentence.lower().strip()\n",
    "    sentence = re.sub(r'[\" \"]+', \" \", sentence)\n",
    "    sentence = re.sub(r\"[á]+\", \"a\", sentence)\n",
    "    sentence = re.sub(r\"[é]+\", \"e\", sentence)\n",
    "    sentence = re.sub(r\"[í]+\", \"i\", sentence)\n",
    "    sentence = re.sub(r\"[ó]+\", \"o\", sentence)\n",
    "    sentence = re.sub(r\"[ú]+\", \"u\", sentence)\n",
    "    sentence = re.sub(r\"[^a-z]+\", \" \", sentence)\n",
    "    sentence = sentence.strip()\n",
    "    sentence = '<sos> ' + sentence + ' <eos>'\n",
    "    return sentence"
   ]
  },
  {
   "cell_type": "code",
   "execution_count": null,
   "id": "478f673b",
   "metadata": {
    "id": "478f673b"
   },
   "outputs": [],
   "source": [
    "s1 = '¿Hola @ cómo estás? 123'"
   ]
  },
  {
   "cell_type": "code",
   "execution_count": null,
   "id": "96ac79c5",
   "metadata": {
    "colab": {
     "base_uri": "https://localhost:8080/"
    },
    "id": "96ac79c5",
    "outputId": "4ad539e1-4480-433d-fbb9-bea4bc72918b"
   },
   "outputs": [
    {
     "name": "stdout",
     "output_type": "stream",
     "text": [
      "¿Hola @ cómo estás? 123\n",
      "<sos> hola como estas <eos>\n"
     ]
    }
   ],
   "source": [
    "print(s1)\n",
    "print(preprocess_sentence(s1))"
   ]
  },
  {
   "cell_type": "code",
   "execution_count": null,
   "id": "d9fc9c4d",
   "metadata": {
    "id": "d9fc9c4d"
   },
   "outputs": [],
   "source": [
    "eng_sentences = [preprocess_sentence(sentence) for sentence in eng_sentences]\n",
    "spa_sentences = [preprocess_sentence(sentence) for sentence in spa_sentences]"
   ]
  },
  {
   "cell_type": "code",
   "execution_count": null,
   "id": "f7a3b18d",
   "metadata": {
    "colab": {
     "base_uri": "https://localhost:8080/"
    },
    "id": "f7a3b18d",
    "outputId": "a7118281-2add-4748-96be-f4f65e9187e8"
   },
   "outputs": [
    {
     "data": {
      "text/plain": [
       "['<sos> hola <eos>',\n",
       " '<sos> entonces <eos>',\n",
       " '<sos> vayase <eos>',\n",
       " '<sos> vete <eos>',\n",
       " '<sos> ok <eos>',\n",
       " '<sos> anda <eos>',\n",
       " '<sos> y que <eos>',\n",
       " '<sos> ay <eos>',\n",
       " '<sos> no <eos>',\n",
       " '<sos> no <eos>']"
      ]
     },
     "execution_count": 24,
     "metadata": {},
     "output_type": "execute_result"
    }
   ],
   "source": [
    "spa_sentences[:10]"
   ]
  },
  {
   "cell_type": "markdown",
   "id": "NeFiuPQJQ25P",
   "metadata": {
    "id": "NeFiuPQJQ25P"
   },
   "source": [
    "### Building vocabulary"
   ]
  },
  {
   "cell_type": "code",
   "execution_count": null,
   "id": "97931cd3",
   "metadata": {
    "id": "97931cd3"
   },
   "outputs": [],
   "source": [
    "def build_vocab(sentences):\n",
    "    \"\"\"\n",
    "    Builds a vocabulary with all the words used in all sentences.\n",
    "\n",
    "    Parameters:\n",
    "        sentences (list[str]): Sentence on a certain language (source or target)\n",
    "    \"\"\"\n",
    "    words = [word for sentence in sentences for word in sentence.split()]\n",
    "    word_count = Counter(words)\n",
    "    sorted_word_counts = sorted(word_count.items(), key=lambda x:x[1], reverse=True) # We sorted using most repeated words first\n",
    "    word2idx = {word: idx for idx, (word, _) in enumerate(sorted_word_counts, 2)} # We start the index with 2, because 0 and 1 will be for padding and unknown\n",
    "    word2idx['<pad>'] = 0\n",
    "    word2idx['<unk>'] = 1\n",
    "    idx2word = {idx: word for word, idx in word2idx.items()}\n",
    "    return word2idx, idx2word"
   ]
  },
  {
   "cell_type": "code",
   "execution_count": null,
   "id": "7fa8738e",
   "metadata": {
    "id": "7fa8738e"
   },
   "outputs": [],
   "source": [
    "eng_word2idx, eng_idx2word = build_vocab(eng_sentences)\n",
    "spa_word2idx, spa_idx2word = build_vocab(spa_sentences)\n",
    "eng_vocab_size = len(eng_word2idx)\n",
    "spa_vocab_size = len(spa_word2idx)"
   ]
  },
  {
   "cell_type": "code",
   "execution_count": null,
   "id": "79d6b633",
   "metadata": {
    "colab": {
     "base_uri": "https://localhost:8080/"
    },
    "id": "79d6b633",
    "outputId": "5856ad5a-a1ea-44bc-b067-28bd0abc6509"
   },
   "outputs": [
    {
     "name": "stdout",
     "output_type": "stream",
     "text": [
      "27933 47339\n"
     ]
    }
   ],
   "source": [
    "print(eng_vocab_size, spa_vocab_size) # We notice that vocabilaries are of different sizes for each language, which makes sense"
   ]
  },
  {
   "cell_type": "markdown",
   "id": "0-syUZ8wSVan",
   "metadata": {
    "id": "0-syUZ8wSVan"
   },
   "source": [
    "### Creating our own Dataset and training the model"
   ]
  },
  {
   "cell_type": "code",
   "execution_count": null,
   "id": "e564017c",
   "metadata": {
    "id": "e564017c"
   },
   "outputs": [],
   "source": [
    "class EngSpaDataset(Dataset):\n",
    "    \"\"\"\n",
    "    A dataset for handling parallel English-Spanish sentences.\n",
    "\n",
    "    This dataset stores pairs of English and Spanish sentences and converts them into sequences of word indices\n",
    "    using provided vocabulary mappings.\n",
    "    \"\"\"\n",
    "    def __init__(self, eng_sentences, spa_sentences, eng_word2idx, spa_word2idx):\n",
    "        \"\"\"\n",
    "        Initializes the EngSpaDataset with parallel sentences and their corresponding vocabularies.\n",
    "\n",
    "        Args:\n",
    "            eng_sentences (list[str]): A list of English sentences\n",
    "            spa_sentences (list[str]): A list of Spanish sentences\n",
    "            eng_word2idx (dict): A dictionary mapping English words to their corresponding indices\n",
    "            spa_word2idx (dict): A dictionary mapping Spanish words to their corresponding indices\n",
    "        \"\"\"\n",
    "        self.eng_sentences = eng_sentences\n",
    "        self.spa_sentences = spa_sentences\n",
    "        self.eng_word2idx = eng_word2idx\n",
    "        self.spa_word2idx = spa_word2idx\n",
    "\n",
    "    def __len__(self):\n",
    "        \"\"\"\n",
    "        Returns the total number of sentence pairs in the dataset\n",
    "\n",
    "        Returns:\n",
    "            int: The number of sentence pairs\n",
    "        \"\"\"\n",
    "        return len(self.eng_sentences)\n",
    "\n",
    "    def __getitem__(self, idx):\n",
    "        \"\"\"\n",
    "        Retrieves the sentence pair at the specified index and converts each sentence to a tensor of word indices.\n",
    "\n",
    "        Each sentence is split on whitespace, and each word is replaced by its corresponding index from the\n",
    "        vocabulary. If a word is not found in the vocabulary, the index for the '<unk>' (unknown) token is used.\n",
    "\n",
    "        Args:\n",
    "            idx (int): The index of the sentence pair to retrieve\n",
    "        \"\"\"\n",
    "        eng_sentence = self.eng_sentences[idx]\n",
    "        spa_sentence = self.spa_sentences[idx]\n",
    "        # return tokens idxs\n",
    "        eng_idxs = [self.eng_word2idx.get(word, self.eng_word2idx['<unk>']) for word in eng_sentence.split()]\n",
    "        spa_idxs = [self.spa_word2idx.get(word, self.spa_word2idx['<unk>']) for word in spa_sentence.split()]\n",
    "\n",
    "        return torch.tensor(eng_idxs), torch.tensor(spa_idxs)"
   ]
  },
  {
   "cell_type": "code",
   "execution_count": null,
   "id": "b579577b",
   "metadata": {
    "id": "b579577b"
   },
   "outputs": [],
   "source": [
    "def collate_fn(batch):\n",
    "    \"\"\"\n",
    "    This function will be passed to the DataLoader to add the padding.\n",
    "\n",
    "    This function takes a list of tuples containing English and Spanish sentence tensors.\n",
    "    Each sentence tensor is first truncated to a maximum length defined by MAX_SEQ_LEN, then cloned and detached from its computation graph.\n",
    "    Finally, the sequences are padded (using PyTorch's pad_sequence function) so that all sequences in each batch have the same length.\n",
    "\n",
    "    Args:\n",
    "        batch (List[Tuple[torch.Tensor, torch.Tensor]]): A list of tuples, where each tuple contains\n",
    "            two tensors: the first tensor is the English sentence and the second tensor is the Spanish sentence.\n",
    "\n",
    "    Returns:\n",
    "        Tuple[torch.Tensor, torch.Tensor]: A tuple containing two tensors:\n",
    "            - The first tensor is the padded batch of English sentence tensors\n",
    "            - The second tensor is the padded batch of Spanish sentence tensors\n",
    "    \"\"\"\n",
    "    eng_batch, spa_batch = zip(*batch)\n",
    "    eng_batch = [seq[:MAX_SEQ_LEN].clone().detach() for seq in eng_batch] # We truncate the sequence to our sequence length\n",
    "    spa_batch = [seq[:MAX_SEQ_LEN].clone().detach() for seq in spa_batch] # We truncate the sequence to our sequence length\n",
    "    eng_batch = torch.nn.utils.rnn.pad_sequence(eng_batch, batch_first=True, padding_value=0)\n",
    "    spa_batch = torch.nn.utils.rnn.pad_sequence(spa_batch, batch_first=True, padding_value=0)\n",
    "    return eng_batch, spa_batch\n"
   ]
  },
  {
   "cell_type": "code",
   "execution_count": null,
   "id": "8d514b7c",
   "metadata": {
    "id": "8d514b7c"
   },
   "outputs": [],
   "source": [
    "def train(model, dataloader, loss_function, optimiser, epochs):\n",
    "    \"\"\"\n",
    "    Trains the model using the provided dataloader, loss function, and optimiser over a specified number of epochs.\n",
    "\n",
    "    This function sets the model to training mode, then iterates over the dataset for the given number of epochs.\n",
    "    For each batch, it moves the data to the appropriate device, preprocesses the Spanish sentence\n",
    "    batch for decoder inputs and targets using teacher forcing (i.e., shifting the sequence by one),\n",
    "    performs a forward pass through the model, computes the loss, and updates the model parameters via backpropagation.\n",
    "\n",
    "    Args:\n",
    "        model (torch.nn.Module): The sequence-to-sequence model to be trained\n",
    "        dataloader (torch.utils.data.DataLoader): DataLoader yielding batches of input data\n",
    "            Each batch should be a tuple (eng_batch, spa_batch), where:\n",
    "                - eng_batch (torch.Tensor): Batch of English sentence tensors\n",
    "                - spa_batch (torch.Tensor): Batch of Spanish sentence tensors\n",
    "        loss_function (callable): The loss function to compute the difference between the model predictions and the target outputs\n",
    "        optimiser (torch.optim.Optimizer): The optimizer used to update the model parameters\n",
    "        epochs (int): The number of epochs to train the model\n",
    "    \"\"\"\n",
    "    model.train()\n",
    "    for epoch in range(epochs):\n",
    "        total_loss = 0\n",
    "        for i, (eng_batch, spa_batch) in enumerate(dataloader):\n",
    "            eng_batch = eng_batch.to(device)\n",
    "            spa_batch = spa_batch.to(device)\n",
    "            # Decoder preprocessing\n",
    "            target_input = spa_batch[:, :-1] # Spanish batch without the last token (<eos>)\n",
    "            target_output = spa_batch[:, 1:].contiguous().view(-1) # Spanish batch without the first token (), reshaped to a 1D tensor for loss computation\n",
    "            # Zero grads\n",
    "            optimiser.zero_grad()\n",
    "            # run model\n",
    "            output = model(eng_batch, target_input)\n",
    "            output = output.view(-1, output.size(-1)) # We make this reshape so it's compatible with our loss function\n",
    "            # loss\\\n",
    "            loss = loss_function(output, target_output)\n",
    "            # gradient and update parameters\n",
    "            loss.backward()\n",
    "            optimiser.step()\n",
    "            total_loss += loss.item()\n",
    "\n",
    "        avg_loss = total_loss/len(dataloader)\n",
    "        print(f'Epoch: {epoch}/{epochs}, Loss: {avg_loss:.4f}')\n",
    "\n"
   ]
  },
  {
   "cell_type": "code",
   "execution_count": null,
   "id": "2379ea72",
   "metadata": {
    "id": "2379ea72"
   },
   "outputs": [],
   "source": [
    "# Define the batch size for training\n",
    "BATCH_SIZE = 64  # Number of sentence pairs processed in parallel during training\n",
    "\n",
    "# Create the dataset object with English and Spanish sentences\n",
    "dataset = EngSpaDataset(eng_sentences, spa_sentences, eng_word2idx, spa_word2idx)\n",
    "\n",
    "# Create a DataLoader to load data in batches\n",
    "dataloader = DataLoader(\n",
    "    dataset,              # The dataset containing English-Spanish sentence pairs\n",
    "    batch_size=BATCH_SIZE, # Number of samples processed per batch (64 in this case)\n",
    "    shuffle=True,         # Randomly shuffles the dataset at every epoch to improve learning\n",
    "    collate_fn=collate_fn # Function to handle padding and batch formatting\n",
    ")"
   ]
  },
  {
   "cell_type": "markdown",
   "id": "bTw5rAokZevf",
   "metadata": {
    "id": "bTw5rAokZevf"
   },
   "source": [
    "#### Instanciating the model"
   ]
  },
  {
   "cell_type": "code",
   "execution_count": null,
   "id": "e08eef6a",
   "metadata": {
    "id": "e08eef6a"
   },
   "outputs": [],
   "source": [
    "# Creating a Transformer with specific values\n",
    "model = Transformer(\n",
    "    d_model=512,             # Dimension of the embedding vectors and internal representations (size of each token in the network)\n",
    "    num_heads=8,             # Number of multi-head attention heads (divides the representation into 8 parts for parallel processing)\n",
    "    d_ff=2048,               # Dimension of the feed-forward layer in each Transformer block (controls the network's capacity)\n",
    "    num_layers=6,            # Number of layers in the encoder and decoder (6 layers in each, as in the original Vaswani et al. model)\n",
    "    input_vocab_size=eng_vocab_size,  # Input vocabulary size (number of tokens in English)\n",
    "    target_vocab_size=spa_vocab_size, # Output vocabulary size (number of tokens in Spanish)\n",
    "    max_len=MAX_SEQ_LEN,     # Maximum sequence length (defines how many tokens the model can process in a sentence)\n",
    "    dropout=0.1              # Dropout rate (a technique to reduce overfitting, 0.1 means 10% of the units are randomly deactivated during training)\n",
    ")"
   ]
  },
  {
   "cell_type": "code",
   "execution_count": null,
   "id": "a1181a12",
   "metadata": {
    "id": "a1181a12"
   },
   "outputs": [],
   "source": [
    "model = model.to(device)\n",
    "loss_function = nn.CrossEntropyLoss(ignore_index=0) # We use ignore_index so it doesn't account padding characters for the loss\n",
    "optimiser = optim.Adam(model.parameters(), lr=0.0001)"
   ]
  },
  {
   "cell_type": "markdown",
   "id": "fn9VObSVZqBn",
   "metadata": {
    "id": "fn9VObSVZqBn"
   },
   "source": [
    "#### Training the model"
   ]
  },
  {
   "cell_type": "code",
   "execution_count": null,
   "id": "14e265e9",
   "metadata": {
    "colab": {
     "base_uri": "https://localhost:8080/"
    },
    "id": "14e265e9",
    "outputId": "ce556b8f-bcef-4f82-a1d0-3631ce67eede"
   },
   "outputs": [
    {
     "name": "stdout",
     "output_type": "stream",
     "text": [
      "Epoch: 0/20, Loss: 3.5791\n",
      "Epoch: 1/20, Loss: 2.1904\n",
      "Epoch: 2/20, Loss: 1.6929\n",
      "Epoch: 3/20, Loss: 1.3690\n",
      "Epoch: 4/20, Loss: 1.1207\n"
     ]
    }
   ],
   "source": [
    "train(model, dataloader, loss_function, optimiser, epochs = 20) # Run in approx. 90mins using A100 GPU"
   ]
  },
  {
   "cell_type": "code",
   "execution_count": null,
   "id": "50740746",
   "metadata": {
    "code_folding": [],
    "id": "50740746"
   },
   "outputs": [],
   "source": [
    "def sentence_to_indices(sentence, word2idx):\n",
    "    \"\"\"\n",
    "    Convert a sentence into a list of word indices using a vocabulary mapping.\n",
    "\n",
    "    Each word in the sentence is split by whitespace and mapped to its corresponding index.\n",
    "    If a word is not found in the mapping, the index for the '<unk>' token is used.\n",
    "\n",
    "    Args:\n",
    "        sentence (str): The input sentence to convert\n",
    "        word2idx (dict): A dictionary mapping words to their indices\n",
    "\n",
    "    Returns:\n",
    "        list[int]: A list of integers representing the word indices for the sentence\n",
    "    \"\"\"\n",
    "    return [word2idx.get(word, word2idx['<unk>']) for word in sentence.split()]\n",
    "\n",
    "def indices_to_sentence(indices, idx2word):\n",
    "    \"\"\"\n",
    "    Convert a list of word indices back into a sentence string using an index-to-word mapping. (Basically the reverse of the previous function)\n",
    "\n",
    "    Words corresponding to padding tokens ('<pad>') are omitted from the resulting sentence.\n",
    "\n",
    "    Args:\n",
    "        indices (list[int]): A list of word indices\n",
    "        idx2word (dict): A dictionary mapping indices to words\n",
    "\n",
    "    Returns:\n",
    "        str: The reconstructed sentence\n",
    "    \"\"\"\n",
    "    return ' '.join([idx2word[idx] for idx in indices if idx in idx2word and idx2word[idx] != '<pad>'])\n",
    "\n",
    "def translate_sentence(model, sentence, eng_word2idx, spa_idx2word, max_len=MAX_SEQ_LEN, device='cpu'):\n",
    "    \"\"\"\n",
    "    Translate an English sentence to Spanish using the provided model.\n",
    "\n",
    "    The function preprocesses the input sentence, converts it to indices, and employs a greedy decoding approach to generate the translation.\n",
    "    The translation generation starts with the start-of-sequence token and continues until the end-of-sequence token is produced\n",
    "    or the maximum sequence length is reached.\n",
    "\n",
    "    Args:\n",
    "        model (torch.nn.Module): The trained translation model\n",
    "        sentence (str): The English sentence to translate\n",
    "        eng_word2idx (dict): A dictionary mapping English words to indices\n",
    "        spa_idx2word (dict): A dictionary mapping Spanish indices to words\n",
    "        max_len (int, optional): The maximum length of the generated sentence. Defaults to MAX_SEQ_LEN\n",
    "        device (str or torch.device, optional): The device on which to perform translation\n",
    "\n",
    "    Returns:\n",
    "        str: The translated Spanish sentence\n",
    "    \"\"\"\n",
    "    model.eval()\n",
    "    sentence = preprocess_sentence(sentence)\n",
    "    input_indices = sentence_to_indices(sentence, eng_word2idx)\n",
    "    input_tensor = torch.tensor(input_indices).unsqueeze(0).to(device)\n",
    "\n",
    "    # Initialize the target tensor with <sos> token\n",
    "    tgt_indices = [spa_word2idx['<sos>']]\n",
    "    tgt_tensor = torch.tensor(tgt_indices).unsqueeze(0).to(device)\n",
    "\n",
    "    # Here we get the predicted indices\n",
    "    with torch.no_grad():\n",
    "        for _ in range(max_len):\n",
    "            output = model(input_tensor, tgt_tensor)\n",
    "            output = output.squeeze(0)\n",
    "            next_token = output.argmax(dim=-1)[-1].item()\n",
    "            tgt_indices.append(next_token)\n",
    "            tgt_tensor = torch.tensor(tgt_indices).unsqueeze(0).to(device)\n",
    "            if next_token == spa_word2idx['<eos>']:\n",
    "                break\n",
    "\n",
    "    return indices_to_sentence(tgt_indices, spa_idx2word)"
   ]
  },
  {
   "cell_type": "code",
   "execution_count": null,
   "id": "c2c0db72",
   "metadata": {
    "code_folding": [
     15
    ],
    "colab": {
     "base_uri": "https://localhost:8080/"
    },
    "id": "c2c0db72",
    "outputId": "5602ff8c-43af-42e1-e087-b59c8da0abcb"
   },
   "outputs": [
    {
     "name": "stdout",
     "output_type": "stream",
     "text": [
      "Input sentence: Hello, how are you?\n",
      "Traducción: <sos> hola como estas <eos>\n",
      "\n",
      "Input sentence: I am learning artificial intelligence.\n",
      "Traducción: <sos> estoy aprendiendo inteligencia artificial <eos>\n",
      "\n",
      "Input sentence: Artificial intelligence is great.\n",
      "Traducción: <sos> la inteligencia artificial es genial <eos>\n",
      "\n",
      "Input sentence: Good night!\n",
      "Traducción: <sos> buenas noches <eos>\n",
      "\n",
      "Input sentence: Artificial intelligence is a complex topic\n",
      "Traducción: <sos> la inteligencia artificial es un complejo pensamiento <eos>\n",
      "\n",
      "Input sentence: Studying maths is fun\n",
      "Traducción: <sos> estudiar las matematicas es divertido <eos>\n",
      "\n",
      "Input sentence: I live in Mexico\n",
      "Traducción: <sos> vivo en mexico <eos>\n",
      "\n",
      "Input sentence: Divide and conquer\n",
      "Traducción: <sos> divide y venceras <eos>\n",
      "\n",
      "Input sentence: Do you remember my name?\n",
      "Traducción: <sos> recuerdas mi nombre <eos>\n",
      "\n",
      "Input sentence: This film is too long\n",
      "Traducción: <sos> esta pelicula es demasiado larga <eos>\n",
      "\n"
     ]
    }
   ],
   "source": [
    "def evaluate_translations(model, sentences, eng_word2idx, spa_idx2word, max_len=MAX_SEQ_LEN, device='cpu'):\n",
    "    \"\"\"\n",
    "    Evaluate and print translations for a list of English sentences using the translation model.\n",
    "\n",
    "    For each sentence in the input list, this function generates its Spanish translation by calling the 'translate_sentence' function,\n",
    "    then prints both the original sentence and its translation.\n",
    "\n",
    "    Args:\n",
    "        model (torch.nn.Module): The trained translation model\n",
    "        sentences (list[str]): A list of English sentences to translate\n",
    "        eng_word2idx (dict): A dictionary mapping English words to indices\n",
    "        spa_idx2word (dict): A dictionary mapping Spanish indices to words\n",
    "        max_len (int, optional): The maximum length for translation generation. Defaults to MAX_SEQ_LEN\n",
    "        device (str or torch.device, optional): The device on which to perform translation\n",
    "    \"\"\"\n",
    "    for sentence in sentences:\n",
    "        translation = translate_sentence(model, sentence, eng_word2idx, spa_idx2word, max_len, device)\n",
    "        print(f'Input sentence: {sentence}')\n",
    "        print(f'Traducción: {translation}')\n",
    "        print()\n",
    "\n",
    "# Example sentences to test the translator\n",
    "test_sentences = [\n",
    "    \"Hello, how are you?\",\n",
    "    \"I am learning artificial intelligence.\",\n",
    "    \"Artificial intelligence is great.\",\n",
    "    \"Good night!\",\n",
    "    \"Artificial intelligence is a complex topic\",\n",
    "    \"Studying maths is fun\",\n",
    "    \"I live in Mexico\",\n",
    "    \"Divide and conquer\",\n",
    "    \"Do you remember my name?\",\n",
    "    \"This film is too long\"\n",
    "]\n",
    "\n",
    "# Assuming the model is trained and loaded\n",
    "# Set the device to 'cpu' or 'cuda' as needed\n",
    "device = torch.device(\"cuda\" if torch.cuda.is_available() else \"cpu\")\n",
    "model = model.to(device)\n",
    "\n",
    "# Evaluate translations\n",
    "evaluate_translations(model, test_sentences, eng_word2idx, spa_idx2word, max_len=MAX_SEQ_LEN, device=device)\n"
   ]
  },
  {
   "cell_type": "markdown",
   "id": "LCOm5Iq3zFVd",
   "metadata": {
    "id": "LCOm5Iq3zFVd"
   },
   "source": [
    "# Conclusion"
   ]
  },
  {
   "cell_type": "markdown",
   "id": "CIYwoUl9zLbr",
   "metadata": {
    "id": "CIYwoUl9zLbr"
   },
   "source": [
    "## **The Transformer Model and Its Impact on NLP**  \n",
    "\n",
    "The **Transformer** model, introduced in the paper *\"Attention Is All You Need\"*, has revolutionized the field of **Natural Language Processing (NLP)**.  \n",
    "Its architecture, based on **self-attention**, eliminates the need for sequential structures like recurrent neural networks (RNNs), allowing it to process entire sentences in parallel and capture long-range dependencies between words.\n",
    "\n",
    "---\n",
    "\n",
    "### **Observations During the Transformer Implementation for English-Spanish Translation**  \n",
    "\n",
    "During this exercise, we identified key aspects affecting performance:\n",
    "\n",
    "1. **Computational Complexity**  \n",
    "   - The **self-attention mechanism** scales quadratically with the sequence length, making the Transformer **computationally expensive**.\n",
    "\n",
    "2. **Batch Size and Training Time**  \n",
    "   - **Larger batch sizes** allow the model to process more samples in parallel, accelerating training.  \n",
    "   - However, **memory constraints** in the GPU limit the maximum batch size.\n",
    "\n",
    "3. **Tokenization and Morphology Handling**  \n",
    "   - In this exercise, the Transformer represents each word as a **single token**, which is **not optimal** for languages with **complex morphology** (e.g., Spanish).  \n",
    "   - This leads to **reduced translation accuracy**, as word-based tokenization fails to capture subword-level variations.\n",
    "\n",
    "---\n",
    "\n",
    "### **Expanding Applications of the Transformer Model**  \n",
    "\n",
    "Beyond translation, this model enables a wide range of applications, including:  \n",
    "\n",
    "**Chatbots & Virtual Assistants**\n",
    "**Machine Translation**\n",
    "**Automated Customer Support**\n",
    "**Speech Recognition & Text-to-Speech**\n",
    "**Text Summarization & Document Analysis**\n",
    "**Sentiment Analysis & Opinion Mining**\n",
    "**Content Generation (e.g., GPT models)**\n",
    "\n",
    "Its ability to understand and generate human-like text makes it **invaluable in AI-driven communication and language processing tasks**.\n",
    "\n",
    "---\n",
    "\n",
    "### **Final Thoughts**  \n",
    "\n",
    "The **Transformer is not the end of the journey**, but rather a **starting point** for even more advanced and scalable architectures in NLP.  \n",
    "Future models will continue to refine **efficiency, adaptability, and accuracy**, pushing the boundaries of what AI can achieve in language understanding.\n"
   ]
  },
  {
   "cell_type": "markdown",
   "id": "23g8Cc4ru0Cl",
   "metadata": {
    "id": "23g8Cc4ru0Cl"
   },
   "source": [
    "# References"
   ]
  },
  {
   "cell_type": "markdown",
   "id": "kkh_btkTu381",
   "metadata": {
    "id": "kkh_btkTu381"
   },
   "source": [
    "Dhanani, F., Rafi, M., & Tahir, M. (2025). Tickling translations: Small but mighty open-sourced transformers bring English PUN-ny entities to life in French!. Computer Speech & Language, 90, 1-15. https://doi.org/10.1016/j.csl.2024.101739.\n",
    "\n",
    "Kumar, S. (2025). Advancements in medical image segmentation: A review of transformer models. *Computers and Electrical Engineering*, *123*, 1-51. https://doi.org/10.1016/j.compeleceng.2025.110099.\n",
    "\n",
    "Tian, T., Song, C., Ting, J., & Huang, H. (2022). A French-to-English Machine Translation Model Using Transformer Network. *Procedia Computer Science*, *199*, 1438-1443. https://doi.org/10.1016/j.procs.2022.01.182.\n",
    "\n",
    "Vaswani, A., Shazeer, N., Parmar, N., Uszkoreit, J., Jones, L., Gomez, A. N., Kaiser, Ł., & Polosukhin, I. (2017). Attention is all you need. *Advances in Neural Information Processing Systems*, *30*, 5998–6008. https://doi.org/10.48550/arXiv.1706.03762."
   ]
  }
 ],
 "metadata": {
  "accelerator": "GPU",
  "colab": {
   "collapsed_sections": [
    "D_vD_vfkSDK1"
   ],
   "gpuType": "A100",
   "machine_shape": "hm",
   "provenance": []
  },
  "kernelspec": {
   "display_name": "Python 3",
   "name": "python3"
  },
  "language_info": {
   "codemirror_mode": {
    "name": "ipython",
    "version": 3
   },
   "file_extension": ".py",
   "mimetype": "text/x-python",
   "name": "python",
   "nbconvert_exporter": "python",
   "pygments_lexer": "ipython3",
   "version": "3.12.7"
  },
  "varInspector": {
   "cols": {
    "lenName": 16,
    "lenType": 16,
    "lenVar": 40
   },
   "kernels_config": {
    "python": {
     "delete_cmd_postfix": "",
     "delete_cmd_prefix": "del ",
     "library": "var_list.py",
     "varRefreshCmd": "print(var_dic_list())"
    },
    "r": {
     "delete_cmd_postfix": ") ",
     "delete_cmd_prefix": "rm(",
     "library": "var_list.r",
     "varRefreshCmd": "cat(var_dic_list()) "
    }
   },
   "types_to_exclude": [
    "module",
    "function",
    "builtin_function_or_method",
    "instance",
    "_Feature"
   ],
   "window_display": false
  }
 },
 "nbformat": 4,
 "nbformat_minor": 5
}
